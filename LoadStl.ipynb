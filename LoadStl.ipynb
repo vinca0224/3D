{
 "cells": [
  {
   "cell_type": "code",
   "id": "initial_id",
   "metadata": {
    "collapsed": true,
    "ExecuteTime": {
     "end_time": "2024-09-13T01:41:05.743029Z",
     "start_time": "2024-09-13T01:41:05.737745Z"
    }
   },
   "source": [
    "## stl 로드 라이브러리 설치\n",
    "# pip install numpy-stl"
   ],
   "outputs": [],
   "execution_count": 1
  },
  {
   "metadata": {
    "ExecuteTime": {
     "end_time": "2024-09-13T01:41:05.937965Z",
     "start_time": "2024-09-13T01:41:05.754998Z"
    }
   },
   "cell_type": "code",
   "source": [
    "## 라이브러리 호출\n",
    "import os\n",
    "import numpy\n",
    "from stl import mesh\n",
    "import numpy as np"
   ],
   "id": "1dfdcf69b468b1ff",
   "outputs": [],
   "execution_count": 2
  },
  {
   "metadata": {
    "ExecuteTime": {
     "end_time": "2024-09-13T01:41:06.080038Z",
     "start_time": "2024-09-13T01:41:06.076466Z"
    }
   },
   "cell_type": "code",
   "source": [
    "## stl 파일이 있는 위치\n",
    "path = \"D:/0_se\""
   ],
   "id": "f6cd069d2e0e71b5",
   "outputs": [],
   "execution_count": 3
  },
  {
   "metadata": {
    "ExecuteTime": {
     "end_time": "2024-09-13T01:41:06.110777Z",
     "start_time": "2024-09-13T01:41:06.106771Z"
    }
   },
   "cell_type": "code",
   "source": [
    "## 작업 디렉토리 변경\n",
    "os.chdir(path)"
   ],
   "id": "a057d176fbb8ed55",
   "outputs": [],
   "execution_count": 4
  },
  {
   "metadata": {
    "ExecuteTime": {
     "end_time": "2024-09-13T01:41:06.761916Z",
     "start_time": "2024-09-13T01:41:06.119626Z"
    }
   },
   "cell_type": "code",
   "source": [
    "## stl파일 ctl 변수에 저장\n",
    "ctl= mesh.Mesh.from_file('model.stl')"
   ],
   "id": "f8ba81305dafcef6",
   "outputs": [
    {
     "ename": "FileNotFoundError",
     "evalue": "[Errno 2] No such file or directory: 'model.stl'",
     "output_type": "error",
     "traceback": [
      "\u001B[1;31m---------------------------------------------------------------------------\u001B[0m",
      "\u001B[1;31mFileNotFoundError\u001B[0m                         Traceback (most recent call last)",
      "Cell \u001B[1;32mIn[5], line 2\u001B[0m\n\u001B[0;32m      1\u001B[0m \u001B[38;5;66;03m## stl파일 ctl 변수에 저장\u001B[39;00m\n\u001B[1;32m----> 2\u001B[0m ctl\u001B[38;5;241m=\u001B[39m mesh\u001B[38;5;241m.\u001B[39mMesh\u001B[38;5;241m.\u001B[39mfrom_file(\u001B[38;5;124m'\u001B[39m\u001B[38;5;124mmodel.stl\u001B[39m\u001B[38;5;124m'\u001B[39m)\n",
      "File \u001B[1;32mC:\\ProgramData\\anaconda3\\Lib\\site-packages\\stl\\stl.py:389\u001B[0m, in \u001B[0;36mBaseStl.from_file\u001B[1;34m(cls, filename, calculate_normals, fh, mode, speedups, **kwargs)\u001B[0m\n\u001B[0;32m    385\u001B[0m     name, data \u001B[38;5;241m=\u001B[39m \u001B[38;5;28mcls\u001B[39m\u001B[38;5;241m.\u001B[39mload(\n\u001B[0;32m    386\u001B[0m         fh, mode\u001B[38;5;241m=\u001B[39mmode, speedups\u001B[38;5;241m=\u001B[39mspeedups\n\u001B[0;32m    387\u001B[0m     )\n\u001B[0;32m    388\u001B[0m \u001B[38;5;28;01melse\u001B[39;00m:\n\u001B[1;32m--> 389\u001B[0m     \u001B[38;5;28;01mwith\u001B[39;00m \u001B[38;5;28mopen\u001B[39m(filename, \u001B[38;5;124m'\u001B[39m\u001B[38;5;124mrb\u001B[39m\u001B[38;5;124m'\u001B[39m) \u001B[38;5;28;01mas\u001B[39;00m fh:\n\u001B[0;32m    390\u001B[0m         name, data \u001B[38;5;241m=\u001B[39m \u001B[38;5;28mcls\u001B[39m\u001B[38;5;241m.\u001B[39mload(\n\u001B[0;32m    391\u001B[0m             fh, mode\u001B[38;5;241m=\u001B[39mmode, speedups\u001B[38;5;241m=\u001B[39mspeedups\n\u001B[0;32m    392\u001B[0m         )\n\u001B[0;32m    394\u001B[0m \u001B[38;5;28;01mreturn\u001B[39;00m \u001B[38;5;28mcls\u001B[39m(\n\u001B[0;32m    395\u001B[0m     data, calculate_normals, name\u001B[38;5;241m=\u001B[39mname,\n\u001B[0;32m    396\u001B[0m     speedups\u001B[38;5;241m=\u001B[39mspeedups, \u001B[38;5;241m*\u001B[39m\u001B[38;5;241m*\u001B[39mkwargs\n\u001B[0;32m    397\u001B[0m )\n",
      "\u001B[1;31mFileNotFoundError\u001B[0m: [Errno 2] No such file or directory: 'model.stl'"
     ]
    }
   ],
   "execution_count": 5
  },
  {
   "metadata": {
    "ExecuteTime": {
     "end_time": "2024-09-13T01:41:06.766905100Z",
     "start_time": "2024-08-07T03:12:42.924683Z"
    }
   },
   "cell_type": "code",
   "source": "ctl.points",
   "id": "1d973b3c23db235a",
   "outputs": [
    {
     "data": {
      "text/plain": [
       "array([[-2.5       , -1.        ,  0.25      , ..., -2.5       ,\n",
       "        -1.        , -0.25      ],\n",
       "       [ 2.5       , -1.        , -0.25      , ..., -2.5       ,\n",
       "        -1.        , -0.25      ],\n",
       "       [-2.5       ,  1.        , -0.25      , ..., -2.5       ,\n",
       "        -1.        , -0.25      ],\n",
       "       ...,\n",
       "       [ 0.9667928 , -0.01011871,  0.25      , ...,  2.5       ,\n",
       "         1.        ,  0.25      ],\n",
       "       [ 2.5       ,  1.        , -0.25      , ...,  2.5       ,\n",
       "        -1.        , -0.25      ],\n",
       "       [ 2.5       , -1.        ,  0.25      , ...,  2.5       ,\n",
       "         1.        ,  0.25      ]], dtype=float32)"
      ]
     },
     "execution_count": 8,
     "metadata": {},
     "output_type": "execute_result"
    }
   ],
   "execution_count": 8
  },
  {
   "metadata": {
    "ExecuteTime": {
     "end_time": "2024-09-13T01:41:06.769896400Z",
     "start_time": "2024-08-07T03:12:42.933270Z"
    }
   },
   "cell_type": "code",
   "source": "ctl.points[0]",
   "id": "65b756d67ff036a7",
   "outputs": [
    {
     "data": {
      "text/plain": [
       "array([-2.5 , -1.  ,  0.25, -2.5 ,  1.  , -0.25, -2.5 , -1.  , -0.25],\n",
       "      dtype=float32)"
      ]
     },
     "execution_count": 9,
     "metadata": {},
     "output_type": "execute_result"
    }
   ],
   "execution_count": 9
  },
  {
   "metadata": {},
   "cell_type": "markdown",
   "source": "## 한 삼각형을 이루는 세 점들 ",
   "id": "d7a0d2bb83892717"
  },
  {
   "metadata": {
    "ExecuteTime": {
     "end_time": "2024-09-13T01:41:06.771912700Z",
     "start_time": "2024-08-07T03:12:42.945561Z"
    }
   },
   "cell_type": "code",
   "source": [
    "point1 = ctl.v0[0]\n",
    "point2 = ctl.v1[0]\n",
    "point3 = ctl.v2[0]"
   ],
   "id": "e8e9928150892df9",
   "outputs": [],
   "execution_count": 10
  },
  {
   "metadata": {
    "ExecuteTime": {
     "end_time": "2024-09-13T01:41:06.771912700Z",
     "start_time": "2024-08-07T03:12:42.956682Z"
    }
   },
   "cell_type": "code",
   "source": "point1",
   "id": "5cbb3b3b033b10ef",
   "outputs": [
    {
     "data": {
      "text/plain": [
       "array([-2.5 , -1.  ,  0.25], dtype=float32)"
      ]
     },
     "execution_count": 11,
     "metadata": {},
     "output_type": "execute_result"
    }
   ],
   "execution_count": 11
  }
 ],
 "metadata": {
  "kernelspec": {
   "display_name": "Python 3",
   "language": "python",
   "name": "python3"
  },
  "language_info": {
   "codemirror_mode": {
    "name": "ipython",
    "version": 2
   },
   "file_extension": ".py",
   "mimetype": "text/x-python",
   "name": "python",
   "nbconvert_exporter": "python",
   "pygments_lexer": "ipython2",
   "version": "2.7.6"
  }
 },
 "nbformat": 4,
 "nbformat_minor": 5
}
