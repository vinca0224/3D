{
 "cells": [
  {
   "cell_type": "code",
   "id": "initial_id",
   "metadata": {
    "collapsed": true,
    "ExecuteTime": {
     "end_time": "2024-08-08T06:26:15.261722Z",
     "start_time": "2024-08-08T06:26:15.254280Z"
    }
   },
   "source": [
    "## stl 로드 라이브러리 설치\n",
    "pip install numpy-stl"
   ],
   "outputs": [
    {
     "ename": "SyntaxError",
     "evalue": "invalid syntax (3825627472.py, line 2)",
     "output_type": "error",
     "traceback": [
      "\u001B[1;36m  Cell \u001B[1;32mIn[1], line 2\u001B[1;36m\u001B[0m\n\u001B[1;33m    pip install numpy-stl\u001B[0m\n\u001B[1;37m        ^\u001B[0m\n\u001B[1;31mSyntaxError\u001B[0m\u001B[1;31m:\u001B[0m invalid syntax\n"
     ]
    }
   ],
   "execution_count": 1
  },
  {
   "metadata": {
    "ExecuteTime": {
     "end_time": "2024-08-07T03:12:42.373382Z",
     "start_time": "2024-08-07T03:12:42.185210Z"
    }
   },
   "cell_type": "code",
   "source": [
    "## 라이브러리 호출\n",
    "import os\n",
    "import numpy\n",
    "from stl import mesh\n",
    "import numpy as np"
   ],
   "id": "1dfdcf69b468b1ff",
   "outputs": [],
   "execution_count": 4
  },
  {
   "metadata": {
    "ExecuteTime": {
     "end_time": "2024-08-07T03:12:42.377548Z",
     "start_time": "2024-08-07T03:12:42.374381Z"
    }
   },
   "cell_type": "code",
   "source": [
    "## stl 파일이 있는 위치\n",
    "path = \"D:/0_se\""
   ],
   "id": "f6cd069d2e0e71b5",
   "outputs": [],
   "execution_count": 5
  },
  {
   "metadata": {
    "ExecuteTime": {
     "end_time": "2024-08-07T03:12:42.390014Z",
     "start_time": "2024-08-07T03:12:42.378548Z"
    }
   },
   "cell_type": "code",
   "source": [
    "## 작업 디렉토리 변경\n",
    "os.chdir(path)"
   ],
   "id": "a057d176fbb8ed55",
   "outputs": [],
   "execution_count": 6
  },
  {
   "metadata": {
    "ExecuteTime": {
     "end_time": "2024-08-07T03:12:42.922017Z",
     "start_time": "2024-08-07T03:12:42.391017Z"
    }
   },
   "cell_type": "code",
   "source": [
    "## stl파일 ctl 변수에 저장\n",
    "ctl= mesh.Mesh.from_file('model.stl')"
   ],
   "id": "f8ba81305dafcef6",
   "outputs": [],
   "execution_count": 7
  },
  {
   "metadata": {
    "ExecuteTime": {
     "end_time": "2024-08-07T03:12:42.932268Z",
     "start_time": "2024-08-07T03:12:42.924683Z"
    }
   },
   "cell_type": "code",
   "source": "ctl.points",
   "id": "1d973b3c23db235a",
   "outputs": [
    {
     "data": {
      "text/plain": [
       "array([[-2.5       , -1.        ,  0.25      , ..., -2.5       ,\n",
       "        -1.        , -0.25      ],\n",
       "       [ 2.5       , -1.        , -0.25      , ..., -2.5       ,\n",
       "        -1.        , -0.25      ],\n",
       "       [-2.5       ,  1.        , -0.25      , ..., -2.5       ,\n",
       "        -1.        , -0.25      ],\n",
       "       ...,\n",
       "       [ 0.9667928 , -0.01011871,  0.25      , ...,  2.5       ,\n",
       "         1.        ,  0.25      ],\n",
       "       [ 2.5       ,  1.        , -0.25      , ...,  2.5       ,\n",
       "        -1.        , -0.25      ],\n",
       "       [ 2.5       , -1.        ,  0.25      , ...,  2.5       ,\n",
       "         1.        ,  0.25      ]], dtype=float32)"
      ]
     },
     "execution_count": 8,
     "metadata": {},
     "output_type": "execute_result"
    }
   ],
   "execution_count": 8
  },
  {
   "metadata": {
    "ExecuteTime": {
     "end_time": "2024-08-07T03:12:42.944561Z",
     "start_time": "2024-08-07T03:12:42.933270Z"
    }
   },
   "cell_type": "code",
   "source": "ctl.points[0]",
   "id": "65b756d67ff036a7",
   "outputs": [
    {
     "data": {
      "text/plain": [
       "array([-2.5 , -1.  ,  0.25, -2.5 ,  1.  , -0.25, -2.5 , -1.  , -0.25],\n",
       "      dtype=float32)"
      ]
     },
     "execution_count": 9,
     "metadata": {},
     "output_type": "execute_result"
    }
   ],
   "execution_count": 9
  },
  {
   "metadata": {},
   "cell_type": "markdown",
   "source": "## 한 삼각형을 이루는 세 점들 ",
   "id": "d7a0d2bb83892717"
  },
  {
   "metadata": {
    "ExecuteTime": {
     "end_time": "2024-08-07T03:12:42.955683Z",
     "start_time": "2024-08-07T03:12:42.945561Z"
    }
   },
   "cell_type": "code",
   "source": [
    "point1 = ctl.v0[0]\n",
    "point2 = ctl.v1[0]\n",
    "point3 = ctl.v2[0]"
   ],
   "id": "e8e9928150892df9",
   "outputs": [],
   "execution_count": 10
  },
  {
   "metadata": {
    "ExecuteTime": {
     "end_time": "2024-08-07T03:12:42.969662Z",
     "start_time": "2024-08-07T03:12:42.956682Z"
    }
   },
   "cell_type": "code",
   "source": "point1",
   "id": "5cbb3b3b033b10ef",
   "outputs": [
    {
     "data": {
      "text/plain": [
       "array([-2.5 , -1.  ,  0.25], dtype=float32)"
      ]
     },
     "execution_count": 11,
     "metadata": {},
     "output_type": "execute_result"
    }
   ],
   "execution_count": 11
  }
 ],
 "metadata": {
  "kernelspec": {
   "display_name": "Python 3",
   "language": "python",
   "name": "python3"
  },
  "language_info": {
   "codemirror_mode": {
    "name": "ipython",
    "version": 2
   },
   "file_extension": ".py",
   "mimetype": "text/x-python",
   "name": "python",
   "nbconvert_exporter": "python",
   "pygments_lexer": "ipython2",
   "version": "2.7.6"
  }
 },
 "nbformat": 4,
 "nbformat_minor": 5
}
