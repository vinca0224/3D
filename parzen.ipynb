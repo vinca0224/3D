{
 "cells": [
  {
   "cell_type": "code",
   "id": "initial_id",
   "metadata": {
    "collapsed": true
   },
   "source": [
    "%matplotlib inline\n",
    "\n",
    "from mpl_toolkits.mplot3d import Axes3D\n",
    "import matplotlib.pyplot as plt\n",
    "import numpy as np\n",
    "from itertools import product, combinations\n",
    "fig = plt.figure(figsize=(7,7))\n",
    "ax = fig.add_subplot(projection='3d')\n",
    "ax.set_aspect(\"equal\")\n",
    "\n",
    "# Plot Points\n",
    "\n",
    "# samples within the cube\n",
    "## 이부분은 이제 실데 데이터 투입\n",
    "X_inside = np.array([[0,0,0],[0.2,0.2,0.2],[0.1, -0.1, -0.3]])\n",
    "\n",
    "X_outside = np.array([[-1.2,0.3,-0.3],[0.8,-0.82,-0.9],[1, 0.6, -0.7],\n",
    "                  [0.8,0.7,0.2],[0.7,-0.8,-0.45],[-0.3, 0.6, 0.9],\n",
    "                  [0.7,-0.6,-0.8]])\n",
    "\n",
    "\n",
    "## 나중에는 전체 데이터를 scatter할거임 \n",
    "for row in X_inside:\n",
    "    ax.scatter(row[0], row[1], row[2], color=\"r\", s=50, marker='^')\n",
    "\n",
    "for row in X_outside:\n",
    "    ax.scatter(row[0], row[1], row[2], color=\"k\", s=50)\n",
    "\n",
    "# Plot Cube\n",
    "# 확률밀도 함수값을 구해주는 단위 큐브\n",
    "h = [-0.5, 0.5]\n",
    "for s, e in combinations(np.array(list(product(h,h,h))), 2):\n",
    "    if np.sum(np.abs(s-e)) == h[1]-h[0]:\n",
    "        ax.plot3D(*zip(s,e), color=\"g\")\n",
    "\n",
    "ax.set_xlim(-1.5, 1.5)\n",
    "ax.set_ylim(-1.5, 1.5)\n",
    "ax.set_zlim(-1.5, 1.5)\n",
    "\n",
    "plt.show()"
   ],
   "outputs": [],
   "execution_count": null
  },
  {
   "metadata": {},
   "cell_type": "code",
   "source": [
    "## 입력 파라미터가 벡터이면 좌표계 필요?\n",
    "## qprxj\n",
    "\n",
    "def window_function(x_vec, unit_len=1):\n",
    "    \"\"\"\n",
    "    Implementation of the window function. Returns 1 if 3x1-sample vector\n",
    "    lies within a origin-centered hypercube, 0 otherwise.\n",
    "    \n",
    "    \"\"\"\n",
    "    for row in x_vec:\n",
    "        if np.abs(row) > (unit_len/2):\n",
    "            return 0\n",
    "    return 1"
   ],
   "id": "6e2758e61f372591",
   "outputs": [],
   "execution_count": null
  },
  {
   "metadata": {},
   "cell_type": "code",
   "source": [
    "X_all = np.vstack((X_inside,X_outside))\n",
    "assert(X_all.shape == (10,3))\n",
    "\n",
    "k_n = 0\n",
    "for row in X_all:\n",
    "    k_n += window_function(row.reshape(3,1))\n",
    "\n",
    "print('Points inside the hypercube:', k_n)\n",
    "print('Points outside the hybercube:', len(X_all) - k_n)"
   ],
   "id": "d2a60d6714e87814",
   "outputs": [],
   "execution_count": null
  },
  {
   "metadata": {
    "ExecuteTime": {
     "end_time": "2024-08-14T01:48:18.406583Z",
     "start_time": "2024-08-14T01:48:18.401698Z"
    }
   },
   "cell_type": "code",
   "source": [
    "import numpy as np\n",
    "\n",
    "def parzen_window_est(x_samples, h=1, center=[0,0,0]):\n",
    "    '''\n",
    "    Implementation of the Parzen-window estimation for hypercubes.\n",
    "\n",
    "    Keyword arguments:\n",
    "        x_samples: A 'n x d'-dimensional numpy array, where each sample\n",
    "            is stored in a separate row.\n",
    "        h: The length of the hypercube.\n",
    "        center: The coordinate center of the hypercube\n",
    "\n",
    "    Returns the probability density for observing k samples inside the hypercube.\n",
    "\n",
    "    '''\n",
    "    dimensions = x_samples.shape[1]\n",
    "\n",
    "    assert len(center) == dimensions, 'Number of center coordinates have to match sample dimensions'\n",
    "    \n",
    "    k = 0\n",
    "    for x in x_samples:\n",
    "        is_inside = 1\n",
    "        for axis, center_point in zip(x, center):\n",
    "            if np.abs(axis - center_point) > (h / 2):\n",
    "                is_inside = 0\n",
    "                break  # 하나의 축이라도 큐브 밖에 있으면 나머지 확인할 필요가 없음\n",
    "        k += is_inside\n",
    "\n",
    "    return (k / len(x_samples)) / (h**dimensions)\n",
    "\n",
    "# 테스트를 위한 예제 데이터\n",
    "X_all = np.random.rand(100, 3)  # 100개의 3차원 샘플 생성\n",
    "\n",
    "print('p(x) =', parzen_window_est(X_all, h=1))\n"
   ],
   "id": "964b300d5301e527",
   "outputs": [
    {
     "name": "stdout",
     "output_type": "stream",
     "text": [
      "p(x) = 0.12\n"
     ]
    }
   ],
   "execution_count": 20
  }
 ],
 "metadata": {
  "kernelspec": {
   "display_name": "Python 3",
   "language": "python",
   "name": "python3"
  },
  "language_info": {
   "codemirror_mode": {
    "name": "ipython",
    "version": 2
   },
   "file_extension": ".py",
   "mimetype": "text/x-python",
   "name": "python",
   "nbconvert_exporter": "python",
   "pygments_lexer": "ipython2",
   "version": "2.7.6"
  }
 },
 "nbformat": 4,
 "nbformat_minor": 5
}
