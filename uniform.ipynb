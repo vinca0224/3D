{
 "cells": [
  {
   "cell_type": "code",
   "id": "initial_id",
   "metadata": {
    "collapsed": true,
    "ExecuteTime": {
     "end_time": "2024-10-30T07:36:34.413703Z",
     "start_time": "2024-10-30T07:36:34.410705Z"
    }
   },
   "source": "import numpy as np",
   "outputs": [],
   "execution_count": 12
  },
  {
   "metadata": {
    "ExecuteTime": {
     "end_time": "2024-10-30T07:36:34.441576Z",
     "start_time": "2024-10-30T07:36:34.436671Z"
    }
   },
   "cell_type": "code",
   "source": [
    "nums = np.random.uniform(-10, 10, 100)\n",
    "\n",
    "# nums = np.linspace(0,10,200)\n",
    "# nums = np.concatenate((nums,np.linspace(50,100,100)))\n",
    "nums = np.sort(nums)\n",
    "nums"
   ],
   "id": "da57abf75a3fe21a",
   "outputs": [
    {
     "data": {
      "text/plain": [
       "array([-9.88422912, -9.85645225, -9.71356599, -9.45520554, -9.40254037,\n",
       "       -7.80302277, -7.54146146, -7.51668383, -7.38735657, -7.17593743,\n",
       "       -7.0853532 , -7.06835411, -6.96204069, -6.75494713, -6.19366329,\n",
       "       -6.07658024, -6.07327104, -5.79943264, -5.76878836, -5.72182145,\n",
       "       -5.68997374, -5.18393741, -5.12886683, -4.96948738, -4.91806399,\n",
       "       -4.69597339, -4.5816033 , -4.52728603, -4.33075161, -4.07703358,\n",
       "       -3.92175476, -3.60715979, -3.15753743, -3.06232473, -2.37101786,\n",
       "       -2.24249704, -2.22887604, -1.70640781, -1.62964547, -1.46812635,\n",
       "       -1.12524014, -0.72749231, -0.72587471, -0.44498741, -0.40008492,\n",
       "       -0.1622596 , -0.03426697,  0.25382577,  0.26667249,  0.53817341,\n",
       "        0.74264596,  0.82445602,  0.8423776 ,  0.8818589 ,  0.99591127,\n",
       "        1.33015891,  1.41841869,  1.44249853,  1.49326894,  1.61665551,\n",
       "        1.76933608,  1.91596288,  2.11896335,  2.1651473 ,  2.29463709,\n",
       "        3.03896224,  3.58941358,  3.64173144,  3.96001686,  4.60849776,\n",
       "        5.46935703,  5.52775136,  5.58204937,  5.60473623,  5.60817718,\n",
       "        5.72203467,  5.77727279,  5.88589545,  6.07010124,  6.13590105,\n",
       "        6.52652941,  7.04081077,  7.13467836,  7.2314844 ,  7.61303069,\n",
       "        7.62993355,  7.66505748,  7.74971289,  7.884601  ,  8.0840417 ,\n",
       "        8.1204665 ,  8.74370229,  8.86616176,  9.19538697,  9.29859017,\n",
       "        9.5105948 ,  9.64479814,  9.69926243,  9.91712334,  9.98191449])"
      ]
     },
     "execution_count": 13,
     "metadata": {},
     "output_type": "execute_result"
    }
   ],
   "execution_count": 13
  },
  {
   "metadata": {
    "ExecuteTime": {
     "end_time": "2024-10-30T07:36:34.544481Z",
     "start_time": "2024-10-30T07:36:34.482697Z"
    }
   },
   "cell_type": "code",
   "source": [
    "import matplotlib.pyplot as plt\n",
    "\n",
    "# nums의 최소값과 최대값 구하기\n",
    "min_num = np.min(nums)\n",
    "max_num = np.max(nums)\n",
    "\n",
    "# 1차원 선 그리기\n",
    "plt.figure(figsize=(10, 2))\n",
    "plt.hlines(1, min_num-0.5, max_num+0.5, colors='gray', linestyles='solid')\n",
    "\n",
    "# nums 값들을 선 위에 점으로 시각화\n",
    "plt.scatter(nums, np.ones_like(nums), color='b', s=10)\n",
    "\n",
    "plt.title('position before update')\n",
    "plt.xlabel('position')\n",
    "plt.yticks([])\n",
    "plt.show()"
   ],
   "id": "ace3717762f07998",
   "outputs": [
    {
     "data": {
      "text/plain": [
       "<Figure size 1000x200 with 1 Axes>"
      ],
      "image/png": "[encoded data removed]"
     },
     "metadata": {},
     "output_type": "display_data"
    }
   ],
   "execution_count": 14
  },
  {
   "metadata": {
    "ExecuteTime": {
     "end_time": "2024-10-30T07:36:34.551985Z",
     "start_time": "2024-10-30T07:36:34.549469Z"
    }
   },
   "cell_type": "code",
   "source": [
    "# from scipy.stats import norm\n",
    "# \n",
    "# dens = []\n",
    "# \n",
    "# for num in nums:\n",
    "#     sum_p = 0\n",
    "#     # 여기에 가우시안 넣어야 될듯\n",
    "#     for num2 in nums:\n",
    "#         if num != num2:\n",
    "#             # gaussian 커널로 점들간 거리에 따라 확률추정\n",
    "#             p = norm.pdf(num-num2, 0, 1)\n",
    "#             # 점 num에서 확률추정\n",
    "#             sum_p += p\n",
    "# \n",
    "#     dens.append(sum_p / (len(nums)-1))\n",
    "# \n",
    "# dens /= np.sum(dens)\n",
    "#   \n",
    "# plt.xlim([min_num-0.5, max_num+0.5])\n",
    "# # plt.scatter(nums, dens, s=1)\n",
    "# plt.plot(nums, dens)"
   ],
   "id": "3d37fbe4957415e9",
   "outputs": [],
   "execution_count": 15
  },
  {
   "metadata": {},
   "cell_type": "markdown",
   "source": [
    "이제 점을 옮겨야지\n",
    "옮기려ㅈ면 기준 점에서 나머지 점들을 빼서 벡터를 만들고\n",
    "그 벡터를 모드 더하면 어떻게든 하나의 방향이 나올거야\n",
    "그 방향의 반대 방향으로 이동시키면"
   ],
   "id": "ffd8512d7a63500a"
  },
  {
   "metadata": {
    "ExecuteTime": {
     "end_time": "2024-10-30T07:37:52.520800Z",
     "start_time": "2024-10-30T07:36:34.564548Z"
    }
   },
   "cell_type": "code",
   "source": [
    "from scipy.stats import norm\n",
    "\n",
    "count = 0\n",
    "\n",
    "dens = np.zeros(len(nums))\n",
    "vec = np.zeros(len(nums))\n",
    "\n",
    "while count < 100:\n",
    "        \n",
    "    for i in range(len(nums)):\n",
    "        sum_pdf = 0\n",
    "        vec_total = 0\n",
    "        # 여기에 가우시안 넣어야 될듯\n",
    "        for num2 in nums:\n",
    "            # 적용할 때는 먼저 점들을 떨어뜨리기 때문에 상관은 없으나,\n",
    "            # 다른 방식으로 적용하려면 인덱스로 비교해야합니다.\n",
    "            if nums[i] != num2:\n",
    "                # gaussian 커널로 점들간 거리에 따라 확률추정\n",
    "                # 이게 벡터의 크기\n",
    "                p = norm.pdf(nums[i]-num2, 0, 1)\n",
    "                # 점 num에서 확률추정\n",
    "                sum_pdf += p\n",
    "                vec_total += p * (nums[i]-num2)\n",
    "            \n",
    "        dens[i] = sum_pdf/(len(nums)-1)\n",
    "        vec[i] = vec_total\n",
    "        # dens.append(sum_pdf / (len(nums)-1))\n",
    "        # vec.append(vec_total)\n",
    "    \n",
    "    dens /= np.sum(dens)\n",
    "    nums += vec\n",
    "    count += 1"
   ],
   "id": "5f5cdf6a2fff1392",
   "outputs": [],
   "execution_count": 16
  },
  {
   "metadata": {
    "ExecuteTime": {
     "end_time": "2024-10-30T07:37:52.537206Z",
     "start_time": "2024-10-30T07:37:52.532857Z"
    }
   },
   "cell_type": "code",
   "source": [
    "# from scipy.stats import norm\n",
    "# \n",
    "# def filter_with_pdf(nums):\n",
    "#     count = 0\n",
    "#     \n",
    "#     dens = np.zeros(len(nums))\n",
    "#     vec = np.zeros(len(nums))\n",
    "#     \n",
    "#     while count < 500:\n",
    "#             \n",
    "#         for i in range(len(nums)):\n",
    "#             sum_pdf = 0\n",
    "#             vec_total = 0\n",
    "#             # 여기에 가우시안 넣어야 될듯\n",
    "#             for num2 in nums:\n",
    "#                 if nums[i] != num2:\n",
    "#                     # gaussian 커널로 점들간 거리에 따라 확률추정\n",
    "#                     # 이게 벡터의 크기\n",
    "#                     p = norm.pdf(nums[i]-num2, 0, 1)\n",
    "#                     # 점 num에서 확률추정\n",
    "#                     sum_pdf += p\n",
    "#                     vec_total += p * (nums[i]-num2)\n",
    "#                 \n",
    "#             dens[i] = sum_pdf/(len(nums)-1)\n",
    "#             vec[i] = vec_total\n",
    "#             # dens.append(sum_pdf / (len(nums)-1))\n",
    "#             # vec.append(vec_total)\n",
    "#         \n",
    "#         dens /= np.sum(dens)\n",
    "#         nums += vec\n",
    "#         count += 1\n",
    "#     return nums"
   ],
   "id": "1132b5f5e86097e3",
   "outputs": [],
   "execution_count": 17
  },
  {
   "metadata": {
    "ExecuteTime": {
     "end_time": "2024-10-30T07:37:52.555623Z",
     "start_time": "2024-10-30T07:37:52.551092Z"
    }
   },
   "cell_type": "code",
   "source": [
    "## 지금 dens랑 num이랑 sort할 때 대응하여 정렬\n",
    "nums_sorted = np.sort(nums)\n",
    "index = np.argsort(nums)\n",
    "\n",
    "dens_sorted = [dens[i] for i in index]"
   ],
   "id": "933d75a2030a2d6b",
   "outputs": [],
   "execution_count": 18
  },
  {
   "metadata": {
    "ExecuteTime": {
     "end_time": "2024-10-30T07:37:52.633378Z",
     "start_time": "2024-10-30T07:37:52.567316Z"
    }
   },
   "cell_type": "code",
   "source": [
    "import matplotlib.pyplot as plt\n",
    "\n",
    "# nums의 최소값과 최대값 구하기\n",
    "min_num = np.min(nums)\n",
    "max_num = np.max(nums)\n",
    "\n",
    "# 1차원 선 그리기\n",
    "plt.figure(figsize=(10, 2))\n",
    "plt.hlines(1, min_num-0.5, max_num+0.5, colors='gray', linestyles='solid')\n",
    "\n",
    "# nums 값들을 선 위에 점으로 시각화\n",
    "plt.scatter(nums_sorted, np.ones_like(nums), color='b', s=7)\n",
    "\n",
    "plt.title('position after update')\n",
    "plt.xlabel('position')\n",
    "plt.yticks([])\n",
    "plt.show()"
   ],
   "id": "8520e6bec74e44bc",
   "outputs": [
    {
     "data": {
      "text/plain": [
       "<Figure size 1000x200 with 1 Axes>"
      ],
      "image/png": "[encoded data removed]"
     },
     "metadata": {},
     "output_type": "display_data"
    }
   ],
   "execution_count": 19
  },
  {
   "metadata": {
    "ExecuteTime": {
     "end_time": "2024-10-30T07:45:30.554631Z",
     "start_time": "2024-10-30T07:45:30.452766Z"
    }
   },
   "cell_type": "code",
   "source": [
    "plt.xlim([min_num-5, max_num+5])\n",
    "# plt.ylim([0, 0.05])\n",
    "# plt.scatter(nums, dens, s=1)\n",
    "# plt.plot(nums_sorted, dens_sorted)\n",
    "plt.scatter(nums, dens, color='b', s=7)"
   ],
   "id": "8934bb1fe4c90ef7",
   "outputs": [
    {
     "data": {
      "text/plain": [
       "<matplotlib.collections.PathCollection at 0x21db36c9c90>"
      ]
     },
     "execution_count": 32,
     "metadata": {},
     "output_type": "execute_result"
    },
    {
     "data": {
      "text/plain": [
       "<Figure size 640x480 with 1 Axes>"
      ],
      "image/png": "[encoded data removed]"
     },
     "metadata": {},
     "output_type": "display_data"
    }
   ],
   "execution_count": 32
  }
 ],
 "metadata": {
  "kernelspec": {
   "display_name": "Python 3",
   "language": "python",
   "name": "python3"
  },
  "language_info": {
   "codemirror_mode": {
    "name": "ipython",
    "version": 2
   },
   "file_extension": ".py",
   "mimetype": "text/x-python",
   "name": "python",
   "nbconvert_exporter": "python",
   "pygments_lexer": "ipython2",
   "version": "2.7.6"
  }
 },
 "nbformat": 4,
 "nbformat_minor": 5
}
