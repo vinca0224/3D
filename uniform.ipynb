{
 "cells": [
  {
   "cell_type": "code",
   "id": "initial_id",
   "metadata": {
    "collapsed": true,
    "ExecuteTime": {
     "end_time": "2024-10-28T07:25:59.020197Z",
     "start_time": "2024-10-28T07:25:59.016337Z"
    }
   },
   "source": "import numpy as np",
   "outputs": [],
   "execution_count": 280
  },
  {
   "metadata": {
    "ExecuteTime": {
     "end_time": "2024-10-28T07:25:59.043828Z",
     "start_time": "2024-10-28T07:25:59.037799Z"
    }
   },
   "cell_type": "code",
   "source": [
    "nums = np.random.uniform(-10, 10, 100)\n",
    "\n",
    "# nums = np.linspace(0,10,200)\n",
    "# nums = np.concatenate((nums,np.linspace(50,100,100)))\n",
    "nums = np.sort(nums)\n",
    "nums"
   ],
   "id": "da57abf75a3fe21a",
   "outputs": [
    {
     "data": {
      "text/plain": [
       "array([-9.75929459, -9.50826328, -9.49536846, -9.29078707, -9.19865007,\n",
       "       -9.04914355, -8.87892581, -8.8427507 , -8.51963417, -8.51045116,\n",
       "       -8.48546716, -8.04831034, -7.84056636, -7.49071988, -7.39103093,\n",
       "       -7.24261334, -7.14839718, -7.05675536, -7.03676404, -6.66481302,\n",
       "       -6.49274373, -6.34731881, -5.88754668, -5.83540136, -5.50971078,\n",
       "       -4.58907844, -4.10292966, -3.75931019, -3.69888442, -3.41171427,\n",
       "       -3.37590036, -2.94840729, -2.63259679, -2.48983434, -2.44535417,\n",
       "       -1.71344347, -1.61198384, -1.40126691, -1.37625705, -1.22538156,\n",
       "       -1.19837299, -1.16310852, -1.1492036 , -1.08079821, -1.04966184,\n",
       "       -0.76436869, -0.5007897 , -0.49594143, -0.49260308, -0.45744038,\n",
       "       -0.39247145, -0.27461318, -0.26220965, -0.21172453, -0.0489531 ,\n",
       "       -0.03599439,  0.27709936,  0.49646988,  0.78113721,  0.78520022,\n",
       "        1.26028842,  1.43616382,  1.46225423,  1.50961033,  1.64971941,\n",
       "        1.82065304,  1.87132264,  2.71973718,  2.87927691,  3.39414797,\n",
       "        3.57939908,  3.71448553,  3.8820646 ,  4.01597133,  4.15500004,\n",
       "        4.23226933,  4.27773282,  4.37689049,  4.57052933,  4.70375954,\n",
       "        4.8372121 ,  5.47392853,  6.02920288,  6.42919503,  6.50677547,\n",
       "        6.62371285,  7.07022856,  7.54508604,  7.56749128,  7.74467791,\n",
       "        7.96637567,  8.52942817,  8.59307331,  8.78147115,  9.05525424,\n",
       "        9.37834773,  9.57861758,  9.59287617,  9.79357776,  9.84482754])"
      ]
     },
     "execution_count": 281,
     "metadata": {},
     "output_type": "execute_result"
    }
   ],
   "execution_count": 281
  },
  {
   "metadata": {
    "ExecuteTime": {
     "end_time": "2024-10-28T07:25:59.111839Z",
     "start_time": "2024-10-28T07:25:59.056073Z"
    }
   },
   "cell_type": "code",
   "source": [
    "import matplotlib.pyplot as plt\n",
    "\n",
    "# nums의 최소값과 최대값 구하기\n",
    "min_num = np.min(nums)\n",
    "max_num = np.max(nums)\n",
    "\n",
    "# 1차원 선 그리기\n",
    "plt.figure(figsize=(10, 2))\n",
    "plt.hlines(1, min_num-0.5, max_num+0.5, colors='gray', linestyles='solid')\n",
    "\n",
    "# nums 값들을 선 위에 점으로 시각화\n",
    "plt.scatter(nums, np.ones_like(nums), color='b', s=10)\n",
    "\n",
    "plt.xlabel('position')\n",
    "plt.yticks([])\n",
    "plt.show()"
   ],
   "id": "ace3717762f07998",
   "outputs": [
    {
     "data": {
      "text/plain": [
       "<Figure size 1000x200 with 1 Axes>"
      ],
      "image/png": "[encoded data removed]"
     },
     "metadata": {},
     "output_type": "display_data"
    }
   ],
   "execution_count": 282
  },
  {
   "metadata": {
    "ExecuteTime": {
     "end_time": "2024-10-28T07:25:59.125033Z",
     "start_time": "2024-10-28T07:25:59.121688Z"
    }
   },
   "cell_type": "code",
   "source": [
    "# from scipy.stats import norm\n",
    "# \n",
    "# dens = []\n",
    "# \n",
    "# for num in nums:\n",
    "#     sum_p = 0\n",
    "#     # 여기에 가우시안 넣어야 될듯\n",
    "#     for num2 in nums:\n",
    "#         if num != num2:\n",
    "#             # gaussian 커널로 점들간 거리에 따라 확률추정\n",
    "#             p = norm.pdf(num-num2, 0, 1)\n",
    "#             # 점 num에서 확률추정\n",
    "#             sum_p += p\n",
    "# \n",
    "#     dens.append(sum_p / (len(nums)-1))\n",
    "# \n",
    "# dens /= np.sum(dens)\n",
    "#   \n",
    "# plt.xlim([min_num-0.5, max_num+0.5])\n",
    "# # plt.scatter(nums, dens, s=1)\n",
    "# plt.plot(nums, dens)"
   ],
   "id": "3d37fbe4957415e9",
   "outputs": [],
   "execution_count": 283
  },
  {
   "metadata": {},
   "cell_type": "markdown",
   "source": [
    "## 이제 점을 옮겨야지\n",
    "## 옮기려ㅈ면 기준 점에서 나머지 점들을 빼서 벡터를 만들고\n",
    "## 그 벡터를 모드 더하면 어떻게든 하나의 방향이 나올거야\n",
    "## 그 방향의 반대 방향으로 이동시키면"
   ],
   "id": "d1e616ab247346a4"
  },
  {
   "metadata": {
    "ExecuteTime": {
     "end_time": "2024-10-28T07:33:06.773687Z",
     "start_time": "2024-10-28T07:28:11.296548Z"
    }
   },
   "cell_type": "code",
   "source": [
    "from scipy.stats import norm\n",
    "\n",
    "i = 0\n",
    "\n",
    "while i < 400:\n",
    "    \n",
    "    dens = []\n",
    "    vec = []\n",
    "    \n",
    "    for num in nums:\n",
    "        sum_pdf = 0\n",
    "        vec_total = 0\n",
    "        # 여기에 가우시안 넣어야 될듯\n",
    "        for num2 in nums:\n",
    "            if num != num2:\n",
    "                # gaussian 커널로 점들간 거리에 따라 확률추정\n",
    "                # 이게 벡터의 크기\n",
    "                p = norm.pdf(num-num2, 0, 1)\n",
    "                # 점 num에서 확률추정\n",
    "                sum_pdf += p\n",
    "                vec_total += p * (num-num2)\n",
    "                \n",
    "        dens.append(sum_pdf / (len(nums)-1))\n",
    "        vec.append(vec_total)\n",
    "    \n",
    "    dens /= np.sum(dens)\n",
    "    nums += vec\n",
    "    i += 1"
   ],
   "id": "5f5cdf6a2fff1392",
   "outputs": [],
   "execution_count": 290
  },
  {
   "metadata": {},
   "cell_type": "markdown",
   "source": "## 지금 dens랑 num이랑 sort할 때 똑같이 해줘야됨",
   "id": "abf4510046b1711e"
  },
  {
   "metadata": {
    "ExecuteTime": {
     "end_time": "2024-10-28T07:34:15.420930Z",
     "start_time": "2024-10-28T07:34:15.361510Z"
    }
   },
   "cell_type": "code",
   "source": [
    "import matplotlib.pyplot as plt\n",
    "\n",
    "# nums의 최소값과 최대값 구하기\n",
    "min_num = np.min(nums)\n",
    "max_num = np.max(nums)\n",
    "\n",
    "# 1차원 선 그리기\n",
    "plt.figure(figsize=(10, 2))\n",
    "plt.hlines(1, min_num-0.5, max_num+0.5, colors='gray', linestyles='solid')\n",
    "\n",
    "# nums 값들을 선 위에 점으로 시각화\n",
    "plt.scatter(nums, np.ones_like(nums), color='b', s=7)\n",
    "\n",
    "plt.xlabel('position')\n",
    "plt.yticks([])\n",
    "plt.show()"
   ],
   "id": "8520e6bec74e44bc",
   "outputs": [
    {
     "data": {
      "text/plain": [
       "<Figure size 1000x200 with 1 Axes>"
      ],
      "image/png": "[encoded data removed]"
     },
     "metadata": {},
     "output_type": "display_data"
    }
   ],
   "execution_count": 291
  },
  {
   "metadata": {
    "ExecuteTime": {
     "end_time": "2024-10-28T08:50:57.306659Z",
     "start_time": "2024-10-28T08:50:57.213785Z"
    }
   },
   "cell_type": "code",
   "source": [
    "plt.xlim([min_num-5, max_num+5])\n",
    "# plt.scatter(nums, dens, s=1)\n",
    "plt.plot(nums, dens)\n",
    "# plt.scatter(nums, dens, color='b', s=7)"
   ],
   "id": "8934bb1fe4c90ef7",
   "outputs": [
    {
     "data": {
      "text/plain": [
       "[<matplotlib.lines.Line2D at 0x2c0a9f1a310>]"
      ]
     },
     "execution_count": 298,
     "metadata": {},
     "output_type": "execute_result"
    },
    {
     "data": {
      "text/plain": [
       "<Figure size 640x480 with 1 Axes>"
      ],
      "image/png": "[encoded data removed]"
     },
     "metadata": {},
     "output_type": "display_data"
    }
   ],
   "execution_count": 298
  }
 ],
 "metadata": {
  "kernelspec": {
   "display_name": "Python 3",
   "language": "python",
   "name": "python3"
  },
  "language_info": {
   "codemirror_mode": {
    "name": "ipython",
    "version": 2
   },
   "file_extension": ".py",
   "mimetype": "text/x-python",
   "name": "python",
   "nbconvert_exporter": "python",
   "pygments_lexer": "ipython2",
   "version": "2.7.6"
  }
 },
 "nbformat": 4,
 "nbformat_minor": 5
}
