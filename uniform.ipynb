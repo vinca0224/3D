{
 "cells": [
  {
   "cell_type": "code",
   "id": "initial_id",
   "metadata": {
    "collapsed": true,
    "ExecuteTime": {
     "end_time": "2024-10-29T04:52:39.170602Z",
     "start_time": "2024-10-29T04:52:39.166233Z"
    }
   },
   "source": "import numpy as np",
   "outputs": [],
   "execution_count": 218
  },
  {
   "metadata": {
    "ExecuteTime": {
     "end_time": "2024-10-29T04:52:39.231887Z",
     "start_time": "2024-10-29T04:52:39.223306Z"
    }
   },
   "cell_type": "code",
   "source": [
    "nums = np.random.uniform(-10, 10, 100)\n",
    "\n",
    "# nums = np.linspace(0,10,200)\n",
    "# nums = np.concatenate((nums,np.linspace(50,100,100)))\n",
    "nums = np.sort(nums)\n",
    "nums"
   ],
   "id": "da57abf75a3fe21a",
   "outputs": [
    {
     "data": {
      "text/plain": [
       "array([-9.96292716, -9.83091615, -9.19369573, -9.18311024, -9.12064117,\n",
       "       -8.91724483, -8.81055549, -8.68409085, -8.62703836, -8.44593205,\n",
       "       -8.27952579, -8.16247117, -7.89748633, -7.47665029, -7.46208025,\n",
       "       -7.28438717, -7.21249092, -7.15814786, -6.45636267, -6.37909972,\n",
       "       -6.10346817, -5.96104895, -5.47636605, -5.43964151, -5.0542014 ,\n",
       "       -4.9207157 , -4.55780374, -4.16657434, -3.78707446, -3.76749163,\n",
       "       -3.70249053, -3.51127872, -3.46570227, -2.95265833, -2.52699437,\n",
       "       -2.1905687 , -2.16522508, -1.70977132, -1.18405663, -1.0332118 ,\n",
       "       -0.66544594, -0.52595554, -0.4922592 , -0.44555478,  0.16490082,\n",
       "        0.39170893,  0.84560665,  0.92954948,  0.94633901,  1.22623714,\n",
       "        1.32467867,  1.60121294,  1.9382704 ,  1.97804114,  2.05427604,\n",
       "        2.29445583,  2.31914758,  2.57001276,  3.1605867 ,  3.23769488,\n",
       "        3.24190418,  3.51055248,  3.51718195,  3.7709281 ,  3.8047007 ,\n",
       "        3.86472494,  3.97483562,  4.10566748,  4.55539145,  5.16772833,\n",
       "        5.26340492,  5.36500633,  5.48004498,  5.51320084,  5.57277139,\n",
       "        5.87548428,  5.9399531 ,  6.12453713,  6.30604058,  6.48720689,\n",
       "        6.79898885,  7.03353479,  7.09567001,  7.28991694,  7.53518755,\n",
       "        7.91758257,  8.01029487,  8.14428042,  8.1849155 ,  8.33293069,\n",
       "        8.36405835,  8.40075635,  8.48672226,  8.71977111,  8.84141503,\n",
       "        9.11523482,  9.19503428,  9.40343882,  9.53090182,  9.75116462])"
      ]
     },
     "execution_count": 219,
     "metadata": {},
     "output_type": "execute_result"
    }
   ],
   "execution_count": 219
  },
  {
   "metadata": {
    "ExecuteTime": {
     "end_time": "2024-10-29T04:52:39.407862Z",
     "start_time": "2024-10-29T04:52:39.281019Z"
    }
   },
   "cell_type": "code",
   "source": [
    "import matplotlib.pyplot as plt\n",
    "\n",
    "# nums의 최소값과 최대값 구하기\n",
    "min_num = np.min(nums)\n",
    "max_num = np.max(nums)\n",
    "\n",
    "# 1차원 선 그리기\n",
    "plt.figure(figsize=(10, 2))\n",
    "plt.hlines(1, min_num-0.5, max_num+0.5, colors='gray', linestyles='solid')\n",
    "\n",
    "# nums 값들을 선 위에 점으로 시각화\n",
    "plt.scatter(nums, np.ones_like(nums), color='b', s=10)\n",
    "\n",
    "plt.title('position before update')\n",
    "plt.xlabel('position')\n",
    "plt.yticks([])\n",
    "plt.show()"
   ],
   "id": "ace3717762f07998",
   "outputs": [
    {
     "data": {
      "text/plain": [
       "<Figure size 1000x200 with 1 Axes>"
      ],
      "image/png": "[encoded data removed]"
     },
     "metadata": {},
     "output_type": "display_data"
    }
   ],
   "execution_count": 220
  },
  {
   "metadata": {
    "ExecuteTime": {
     "end_time": "2024-10-29T04:52:39.424114Z",
     "start_time": "2024-10-29T04:52:39.419834Z"
    }
   },
   "cell_type": "code",
   "source": [
    "# from scipy.stats import norm\n",
    "# \n",
    "# dens = []\n",
    "# \n",
    "# for num in nums:\n",
    "#     sum_p = 0\n",
    "#     # 여기에 가우시안 넣어야 될듯\n",
    "#     for num2 in nums:\n",
    "#         if num != num2:\n",
    "#             # gaussian 커널로 점들간 거리에 따라 확률추정\n",
    "#             p = norm.pdf(num-num2, 0, 1)\n",
    "#             # 점 num에서 확률추정\n",
    "#             sum_p += p\n",
    "# \n",
    "#     dens.append(sum_p / (len(nums)-1))\n",
    "# \n",
    "# dens /= np.sum(dens)\n",
    "#   \n",
    "# plt.xlim([min_num-0.5, max_num+0.5])\n",
    "# # plt.scatter(nums, dens, s=1)\n",
    "# plt.plot(nums, dens)"
   ],
   "id": "3d37fbe4957415e9",
   "outputs": [],
   "execution_count": 221
  },
  {
   "metadata": {},
   "cell_type": "markdown",
   "source": [
    "## 이제 점을 옮겨야지\n",
    "## 옮기려ㅈ면 기준 점에서 나머지 점들을 빼서 벡터를 만들고\n",
    "## 그 벡터를 모드 더하면 어떻게든 하나의 방향이 나올거야\n",
    "## 그 방향의 반대 방향으로 이동시키면"
   ],
   "id": "d1e616ab247346a4"
  },
  {
   "metadata": {
    "ExecuteTime": {
     "end_time": "2024-10-29T05:02:26.205491Z",
     "start_time": "2024-10-29T04:52:39.446663Z"
    }
   },
   "cell_type": "code",
   "source": [
    "from scipy.stats import norm\n",
    "\n",
    "count = 0\n",
    "\n",
    "dens = np.zeros(len(nums))\n",
    "vec = np.zeros(len(nums))\n",
    "\n",
    "while count < 500:\n",
    "        \n",
    "    for i in range(len(nums)):\n",
    "        sum_pdf = 0\n",
    "        vec_total = 0\n",
    "        # 여기에 가우시안 넣어야 될듯\n",
    "        for num2 in nums:\n",
    "            if nums[i] != num2:\n",
    "                # gaussian 커널로 점들간 거리에 따라 확률추정\n",
    "                # 이게 벡터의 크기\n",
    "                p = norm.pdf(nums[i]-num2, 0, 1)\n",
    "                # 점 num에서 확률추정\n",
    "                sum_pdf += p\n",
    "                vec_total += p * (nums[i]-num2)\n",
    "            \n",
    "        dens[i] = sum_pdf/(len(nums)-1)\n",
    "        vec[i] = vec_total\n",
    "        # dens.append(sum_pdf / (len(nums)-1))\n",
    "        # vec.append(vec_total)\n",
    "    \n",
    "    dens /= np.sum(dens)\n",
    "    nums += vec\n",
    "    count += 1"
   ],
   "id": "5f5cdf6a2fff1392",
   "outputs": [],
   "execution_count": 222
  },
  {
   "metadata": {
    "ExecuteTime": {
     "end_time": "2024-10-29T05:02:26.235334Z",
     "start_time": "2024-10-29T05:02:26.229841Z"
    }
   },
   "cell_type": "code",
   "source": [
    "# from scipy.stats import norm\n",
    "# \n",
    "# def filter_with_pdf(nums):\n",
    "#     count = 0\n",
    "#     \n",
    "#     dens = np.zeros(len(nums))\n",
    "#     vec = np.zeros(len(nums))\n",
    "#     \n",
    "#     while count < 500:\n",
    "#             \n",
    "#         for i in range(len(nums)):\n",
    "#             sum_pdf = 0\n",
    "#             vec_total = 0\n",
    "#             # 여기에 가우시안 넣어야 될듯\n",
    "#             for num2 in nums:\n",
    "#                 if nums[i] != num2:\n",
    "#                     # gaussian 커널로 점들간 거리에 따라 확률추정\n",
    "#                     # 이게 벡터의 크기\n",
    "#                     p = norm.pdf(nums[i]-num2, 0, 1)\n",
    "#                     # 점 num에서 확률추정\n",
    "#                     sum_pdf += p\n",
    "#                     vec_total += p * (nums[i]-num2)\n",
    "#                 \n",
    "#             dens[i] = sum_pdf/(len(nums)-1)\n",
    "#             vec[i] = vec_total\n",
    "#             # dens.append(sum_pdf / (len(nums)-1))\n",
    "#             # vec.append(vec_total)\n",
    "#         \n",
    "#         dens /= np.sum(dens)\n",
    "#         nums += vec\n",
    "#         count += 1\n",
    "#     return nums"
   ],
   "id": "1132b5f5e86097e3",
   "outputs": [],
   "execution_count": 223
  },
  {
   "metadata": {
    "ExecuteTime": {
     "end_time": "2024-10-29T05:02:26.265099Z",
     "start_time": "2024-10-29T05:02:26.260256Z"
    }
   },
   "cell_type": "code",
   "source": [
    "## 지금 dens랑 num이랑 sort할 때 대응하여 정렬\n",
    "nums_sorted = np.sort(nums)\n",
    "index = np.argsort(nums)\n",
    "\n",
    "dens_sorted = [dens[i] for i in index]"
   ],
   "id": "933d75a2030a2d6b",
   "outputs": [],
   "execution_count": 224
  },
  {
   "metadata": {
    "ExecuteTime": {
     "end_time": "2024-10-29T05:02:26.398042Z",
     "start_time": "2024-10-29T05:02:26.291009Z"
    }
   },
   "cell_type": "code",
   "source": [
    "import matplotlib.pyplot as plt\n",
    "\n",
    "# nums의 최소값과 최대값 구하기\n",
    "min_num = np.min(nums)\n",
    "max_num = np.max(nums)\n",
    "\n",
    "# 1차원 선 그리기\n",
    "plt.figure(figsize=(10, 2))\n",
    "plt.hlines(1, min_num-0.5, max_num+0.5, colors='gray', linestyles='solid')\n",
    "\n",
    "# nums 값들을 선 위에 점으로 시각화\n",
    "plt.scatter(nums_sorted, np.ones_like(nums), color='b', s=7)\n",
    "\n",
    "plt.title('position after update')\n",
    "plt.xlabel('position')\n",
    "plt.yticks([])\n",
    "plt.show()"
   ],
   "id": "8520e6bec74e44bc",
   "outputs": [
    {
     "data": {
      "text/plain": [
       "<Figure size 1000x200 with 1 Axes>"
      ],
      "image/png": "[encoded data removed]"
     },
     "metadata": {},
     "output_type": "display_data"
    }
   ],
   "execution_count": 225
  },
  {
   "metadata": {
    "ExecuteTime": {
     "end_time": "2024-10-29T05:02:26.588078Z",
     "start_time": "2024-10-29T05:02:26.419981Z"
    }
   },
   "cell_type": "code",
   "source": [
    "plt.xlim([min_num-5, max_num+5])\n",
    "# plt.scatter(nums, dens, s=1)\n",
    "# plt.plot(nums_sorted, dens_sorted)\n",
    "plt.scatter(nums, dens, color='b', s=7)"
   ],
   "id": "8934bb1fe4c90ef7",
   "outputs": [
    {
     "data": {
      "text/plain": [
       "<matplotlib.collections.PathCollection at 0x2456b3ac090>"
      ]
     },
     "execution_count": 226,
     "metadata": {},
     "output_type": "execute_result"
    },
    {
     "data": {
      "text/plain": [
       "<Figure size 640x480 with 1 Axes>"
      ],
      "image/png": "[encoded data removed]"
     },
     "metadata": {},
     "output_type": "display_data"
    }
   ],
   "execution_count": 226
  }
 ],
 "metadata": {
  "kernelspec": {
   "display_name": "Python 3",
   "language": "python",
   "name": "python3"
  },
  "language_info": {
   "codemirror_mode": {
    "name": "ipython",
    "version": 2
   },
   "file_extension": ".py",
   "mimetype": "text/x-python",
   "name": "python",
   "nbconvert_exporter": "python",
   "pygments_lexer": "ipython2",
   "version": "2.7.6"
  }
 },
 "nbformat": 4,
 "nbformat_minor": 5
}
