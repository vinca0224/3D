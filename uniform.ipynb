{
 "cells": [
  {
   "cell_type": "code",
   "id": "initial_id",
   "metadata": {
    "collapsed": true,
    "ExecuteTime": {
     "end_time": "2024-11-04T06:20:50.794940Z",
     "start_time": "2024-11-04T06:20:50.791526Z"
    }
   },
   "source": "import numpy as np",
   "outputs": [],
   "execution_count": 203
  },
  {
   "metadata": {
    "ExecuteTime": {
     "end_time": "2024-11-04T06:20:50.816482Z",
     "start_time": "2024-11-04T06:20:50.810898Z"
    }
   },
   "cell_type": "code",
   "source": [
    "nums = np.random.uniform(-10, 10, 100)\n",
    "\n",
    "# nums = np.linspace(0,10,200)\n",
    "# nums = np.concatenate((nums,np.linspace(50,100,100)))\n",
    "nums = np.sort(nums)\n",
    "nums"
   ],
   "id": "da57abf75a3fe21a",
   "outputs": [
    {
     "data": {
      "text/plain": [
       "array([-9.94164327, -9.70094979, -9.38520872, -9.27474623, -9.2534485 ,\n",
       "       -8.88661875, -8.86987872, -8.57940331, -8.02040052, -7.82843655,\n",
       "       -7.80582201, -7.78548547, -7.76700138, -7.74605306, -7.56421565,\n",
       "       -7.34628084, -7.2904726 , -7.14832814, -7.076141  , -6.88288118,\n",
       "       -6.59632251, -6.58360629, -6.40011642, -5.29973935, -4.96078461,\n",
       "       -4.69063963, -3.1248714 , -3.11399156, -2.69089277, -2.38061701,\n",
       "       -2.28055657, -2.04554324, -1.97653435, -1.88962372, -1.44456128,\n",
       "       -1.2582383 , -1.11783426, -0.35330592, -0.1222823 ,  0.0120017 ,\n",
       "        0.27331331,  0.40912631,  0.6895397 ,  1.1290137 ,  1.32307914,\n",
       "        1.34214649,  1.35012136,  1.75520187,  1.7786119 ,  1.83032019,\n",
       "        1.96715045,  2.03003932,  2.64593082,  2.69034725,  2.75766334,\n",
       "        2.79593392,  3.25217103,  3.77645051,  4.09079501,  4.1203487 ,\n",
       "        4.32458639,  4.58671763,  4.94724922,  5.25591419,  5.37541992,\n",
       "        5.39338966,  5.42598123,  5.43871258,  5.44473996,  5.52877779,\n",
       "        5.5722297 ,  5.60262446,  5.70183199,  5.7528982 ,  6.07814243,\n",
       "        6.47233037,  6.52106206,  6.58446708,  6.80998149,  6.95199098,\n",
       "        7.05583864,  7.19959174,  7.3417391 ,  7.50544734,  7.68147671,\n",
       "        7.82089674,  8.18923814,  8.23302334,  8.31368386,  8.32801683,\n",
       "        8.43074131,  8.65486131,  8.75864664,  8.95205333,  9.04849386,\n",
       "        9.24564287,  9.32075977,  9.39363433,  9.63207503,  9.72324404])"
      ]
     },
     "execution_count": 204,
     "metadata": {},
     "output_type": "execute_result"
    }
   ],
   "execution_count": 204
  },
  {
   "metadata": {
    "ExecuteTime": {
     "end_time": "2024-11-04T06:20:50.996032Z",
     "start_time": "2024-11-04T06:20:50.852185Z"
    }
   },
   "cell_type": "code",
   "source": [
    "import matplotlib.pyplot as plt\n",
    "\n",
    "# nums의 최소값과 최대값 구하기\n",
    "min_num = np.min(nums)\n",
    "max_num = np.max(nums)\n",
    "\n",
    "# 1차원 선 그리기\n",
    "plt.figure(figsize=(10, 2))\n",
    "plt.hlines(1, min_num-0.5, max_num+0.5, colors='gray', linestyles='solid')\n",
    "\n",
    "# nums 값들을 선 위에 점으로 시각화\n",
    "plt.scatter(nums, np.ones_like(nums), color='b', s=10)\n",
    "\n",
    "plt.title('position before update')\n",
    "plt.xlabel('position')\n",
    "plt.yticks([])\n",
    "plt.show()"
   ],
   "id": "ace3717762f07998",
   "outputs": [
    {
     "data": {
      "text/plain": [
       "<Figure size 1000x200 with 1 Axes>"
      ],
      "image/png": "[encoded data removed]"
     },
     "metadata": {},
     "output_type": "display_data"
    }
   ],
   "execution_count": 205
  },
  {
   "metadata": {
    "ExecuteTime": {
     "end_time": "2024-11-04T06:20:51.016506Z",
     "start_time": "2024-11-04T06:20:51.013741Z"
    }
   },
   "cell_type": "code",
   "source": [
    "# from scipy.stats import norm\n",
    "# \n",
    "# dens = []\n",
    "# \n",
    "# for num in nums:\n",
    "#     sum_p = 0\n",
    "#     # 여기에 가우시안 넣어야 될듯\n",
    "#     for num2 in nums:\n",
    "#         if num != num2:\n",
    "#             # gaussian 커널로 점들간 거리에 따라 확률추정\n",
    "#             p = norm.pdf(num-num2, 0, 1)\n",
    "#             # 점 num에서 확률추정\n",
    "#             sum_p += p\n",
    "# \n",
    "#     dens.append(sum_p / (len(nums)-1))\n",
    "# \n",
    "# dens /= np.sum(dens)\n",
    "#   \n",
    "# plt.xlim([min_num-0.5, max_num+0.5])\n",
    "# # plt.scatter(nums, dens, s=1)\n",
    "# plt.plot(nums, dens)"
   ],
   "id": "3d37fbe4957415e9",
   "outputs": [],
   "execution_count": 206
  },
  {
   "metadata": {},
   "cell_type": "markdown",
   "source": [
    "이제 점을 옮겨야지\n",
    "옮기려ㅈ면 기준 점에서 나머지 점들을 빼서 벡터를 만들고\n",
    "그 벡터를 모드 더하면 어떻게든 하나의 방향이 나올거야\n",
    "그 방향의 반대 방향으로 이동시키면"
   ],
   "id": "ffd8512d7a63500a"
  },
  {
   "metadata": {
    "ExecuteTime": {
     "end_time": "2024-11-04T06:20:51.031502Z",
     "start_time": "2024-11-04T06:20:51.026956Z"
    }
   },
   "cell_type": "code",
   "source": [
    "# from scipy.stats import norm\n",
    "# import numpy as np\n",
    "# \n",
    "# dens = np.zeros(len(nums))\n",
    "# vec = np.zeros(len(nums))\n",
    "# \n",
    "# enp = [float('inf')]\n",
    "# \n",
    "# count = 0\n",
    "# \n",
    "# while True:\n",
    "#     for i in range(len(nums)):\n",
    "#         sum_pdf = 0\n",
    "#         vec_total = 0\n",
    "# \n",
    "#         for num2 in nums:\n",
    "#             if nums[i] != num2:\n",
    "#                 # 가우시안 커널 계산\n",
    "#                 p = norm.pdf(nums[i] - num2, 0, 1)\n",
    "#                 sum_pdf += p\n",
    "#                 vec_total += p * (nums[i] - num2)\n",
    "# \n",
    "#         # 각 점에서의 밀도 계산, 정규화\n",
    "#         dens[i] = sum_pdf / (len(nums) * (len(nums) -1))\n",
    "#         vec[i] = vec_total\n",
    "# \n",
    "#     \n",
    "#     # 엔트로피 계산: 로그 합산을 통해 엔트로피를 직접 계산\n",
    "#     current_entropy = np.sum(np.log(np.sum(dens) + 1e-10))  # 로그 계산 시 0 방지\n",
    "# \n",
    "#     enp.append(current_entropy)\n",
    "# \n",
    "#     # 엔트로피 변화가 epsilon 이하일 때 중지\n",
    "#     if abs(enp[-2] - current_entropy) < 0.001 and current_entropy == min(enp):\n",
    "#         break\n",
    "# \n",
    "#     nums += 0.9 * vec  # vec의 크기 조절\n",
    "#     count += 1\n"
   ],
   "id": "5f5cdf6a2fff1392",
   "outputs": [],
   "execution_count": 207
  },
  {
   "metadata": {
    "ExecuteTime": {
     "end_time": "2024-11-04T06:20:53.353711Z",
     "start_time": "2024-11-04T06:20:51.042351Z"
    }
   },
   "cell_type": "code",
   "source": [
    "from scipy.stats import norm\n",
    "import numpy as np\n",
    "\n",
    "# 가우시안 커널 함수\n",
    "def gaussian_kernel(x, sigma=1):\n",
    "    return np.exp(-0.5 * (x / sigma) ** 2) / (sigma * np.sqrt(2 * np.pi))\n",
    "\n",
    "enp = [float('inf')]\n",
    "\n",
    "while True:\n",
    "    # 차이 행렬 계산: nums[i] - nums[j]의 모든 조합을 벡터화하여 계산\n",
    "    diff_matrix = nums[:, np.newaxis] - nums[np.newaxis, :]\n",
    "    np.fill_diagonal(diff_matrix, 0)  # 자기 자신과의 차이는 0으로 설정\n",
    "\n",
    "    # 가우시안 커널 밀도 계산\n",
    "    pdf_matrix = gaussian_kernel(diff_matrix)\n",
    "    pdf_matrix[np.isnan(pdf_matrix)] = 0  # NaN 값 제거\n",
    "\n",
    "    # 각 점에서의 밀도 및 벡터 업데이트 계산\n",
    "    dens = np.sum(pdf_matrix, axis=1) / (len(nums) * (len(nums) - 1))\n",
    "    vec = np.sum(pdf_matrix * diff_matrix, axis=1)\n",
    "\n",
    "    # 엔트로피 계산\n",
    "    current_entropy = -np.sum(dens * np.log(dens + 1e-10))  # 확률분포로 정규화한 후 로그 엔트로피 계산\n",
    "\n",
    "    enp.append(current_entropy)\n",
    "\n",
    "    # 엔트로피 변화가 epsilon 이하일 때 중지\n",
    "    if abs(enp[-2] - current_entropy) < 1e-6 and current_entropy == min(enp):\n",
    "        break\n",
    "\n",
    "    nums += 0.9 * vec  # vec의 크기 조절"
   ],
   "id": "c3695ce4e03ec8d4",
   "outputs": [],
   "execution_count": 208
  },
  {
   "metadata": {
    "ExecuteTime": {
     "end_time": "2024-11-04T06:20:53.465800Z",
     "start_time": "2024-11-04T06:20:53.364144Z"
    }
   },
   "cell_type": "code",
   "source": [
    "enp\n",
    "\n",
    "# plt.xlim(0, 200)\n",
    "plt.plot(enp)\n",
    "print(len(enp))"
   ],
   "id": "276380ef53afa9d9",
   "outputs": [
    {
     "name": "stdout",
     "output_type": "stream",
     "text": [
      "7678\n"
     ]
    },
    {
     "data": {
      "text/plain": [
       "<Figure size 640x480 with 1 Axes>"
      ],
      "image/png": "[encoded data removed]"
     },
     "metadata": {},
     "output_type": "display_data"
    }
   ],
   "execution_count": 209
  },
  {
   "metadata": {
    "ExecuteTime": {
     "end_time": "2024-11-04T06:20:53.544468Z",
     "start_time": "2024-11-04T06:20:53.540057Z"
    }
   },
   "cell_type": "code",
   "source": [
    "## 지금 dens랑 num이랑 sort할 때 대응하여 정렬\n",
    "nums_sorted = np.sort(nums)\n",
    "index = np.argsort(nums)\n",
    "\n",
    "dens_sorted = [dens[i] for i in index]"
   ],
   "id": "933d75a2030a2d6b",
   "outputs": [],
   "execution_count": 210
  },
  {
   "metadata": {
    "ExecuteTime": {
     "end_time": "2024-11-04T06:20:53.624555Z",
     "start_time": "2024-11-04T06:20:53.564901Z"
    }
   },
   "cell_type": "code",
   "source": [
    "import matplotlib.pyplot as plt\n",
    "\n",
    "# nums의 최소값과 최대값 구하기\n",
    "min_num = np.min(nums)\n",
    "max_num = np.max(nums)\n",
    "\n",
    "# 1차원 선 그리기\n",
    "plt.figure(figsize=(10, 2))\n",
    "plt.hlines(1, min_num-0.5, max_num+0.5, colors='gray', linestyles='solid')\n",
    "\n",
    "# nums 값들을 선 위에 점으로 시각화\n",
    "plt.scatter(nums_sorted, np.ones_like(nums), color='r', s=2)\n",
    "\n",
    "plt.title('position after update')\n",
    "plt.xlabel('position')\n",
    "plt.yticks([])\n",
    "plt.show()"
   ],
   "id": "8520e6bec74e44bc",
   "outputs": [
    {
     "data": {
      "text/plain": [
       "<Figure size 1000x200 with 1 Axes>"
      ],
      "image/png": "[encoded data removed]"
     },
     "metadata": {},
     "output_type": "display_data"
    }
   ],
   "execution_count": 211
  },
  {
   "metadata": {
    "ExecuteTime": {
     "end_time": "2024-11-04T06:20:53.725751Z",
     "start_time": "2024-11-04T06:20:53.635403Z"
    }
   },
   "cell_type": "code",
   "source": [
    "plt.xlim([min_num-5, max_num+5])\n",
    "# plt.ylim([0, 0.05])\n",
    "# plt.scatter(nums, dens, s=1)\n",
    "# plt.plot(nums_sorted, dens_sorted)\n",
    "plt.scatter(nums, dens, color='b', s=7)"
   ],
   "id": "8934bb1fe4c90ef7",
   "outputs": [
    {
     "data": {
      "text/plain": [
       "<matplotlib.collections.PathCollection at 0x29bb9a48a10>"
      ]
     },
     "execution_count": 212,
     "metadata": {},
     "output_type": "execute_result"
    },
    {
     "data": {
      "text/plain": [
       "<Figure size 640x480 with 1 Axes>"
      ],
      "image/png": "[encoded data removed]"
     },
     "metadata": {},
     "output_type": "display_data"
    }
   ],
   "execution_count": 212
  }
 ],
 "metadata": {
  "kernelspec": {
   "display_name": "Python 3",
   "language": "python",
   "name": "python3"
  },
  "language_info": {
   "codemirror_mode": {
    "name": "ipython",
    "version": 2
   },
   "file_extension": ".py",
   "mimetype": "text/x-python",
   "name": "python",
   "nbconvert_exporter": "python",
   "pygments_lexer": "ipython2",
   "version": "2.7.6"
  }
 },
 "nbformat": 4,
 "nbformat_minor": 5
}
