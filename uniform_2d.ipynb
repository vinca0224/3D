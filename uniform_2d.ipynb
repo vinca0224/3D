{
 "cells": [
  {
   "cell_type": "code",
   "id": "initial_id",
   "metadata": {
    "collapsed": true,
    "ExecuteTime": {
     "end_time": "2024-11-06T02:13:25.254298Z",
     "start_time": "2024-11-06T02:13:25.121578Z"
    }
   },
   "source": [
    "import numpy as np\n",
    "import math\n",
    "\n",
    "points = np.random.uniform(low=-10, high=10, size=(100, 2))\n",
    "points = np.asarray(points)"
   ],
   "outputs": [],
   "execution_count": 1
  },
  {
   "metadata": {
    "ExecuteTime": {
     "end_time": "2024-11-06T02:13:25.260637Z",
     "start_time": "2024-11-06T02:13:25.257297Z"
    }
   },
   "cell_type": "code",
   "source": [
    "# x = np.random.uniform(-10, 10, 100)\n",
    "# \n",
    "# points = []\n",
    "# \n",
    "# for i in x:\n",
    "#     points.append((i,i**2))\n",
    "# points = np.asarray(points)"
   ],
   "id": "feda27203debb872",
   "outputs": [],
   "execution_count": 2
  },
  {
   "metadata": {
    "ExecuteTime": {
     "end_time": "2024-11-06T02:13:25.793282Z",
     "start_time": "2024-11-06T02:13:25.785657Z"
    }
   },
   "cell_type": "code",
   "source": "points",
   "id": "a93c2c794f4e5abb",
   "outputs": [
    {
     "data": {
      "text/plain": [
       "array([[ 0.02728661,  2.80255904],\n",
       "       [ 0.56991509,  0.63090605],\n",
       "       [-4.44229527, -5.05749173],\n",
       "       [-0.56198633,  3.18509516],\n",
       "       [-4.04771414, -5.37223759],\n",
       "       [-0.2611915 , -1.82791316],\n",
       "       [-5.46575572, -4.6736128 ],\n",
       "       [ 5.2078164 ,  0.45934411],\n",
       "       [-0.42116207, -7.1860679 ],\n",
       "       [-6.61752135,  8.67917815],\n",
       "       [ 8.81114807,  7.08461852],\n",
       "       [-5.934674  ,  9.47122333],\n",
       "       [ 6.32045862, -0.02372023],\n",
       "       [-6.09176353, -8.32224295],\n",
       "       [ 3.05504622, -9.11282752],\n",
       "       [-9.92475281,  5.40368617],\n",
       "       [ 4.88463705, -1.30961109],\n",
       "       [-8.51516011,  8.05201334],\n",
       "       [ 8.32469691,  9.55674465],\n",
       "       [ 7.72543704,  2.49848934],\n",
       "       [-0.73047321,  9.09011896],\n",
       "       [-3.08865565, -4.28151349],\n",
       "       [-2.05493321, -3.86054425],\n",
       "       [-0.05097673,  9.72711168],\n",
       "       [ 8.60494359, -1.98922426],\n",
       "       [ 9.83944032,  1.08844695],\n",
       "       [ 1.58649664, -7.20484406],\n",
       "       [ 0.65179523,  9.83289118],\n",
       "       [-4.74441219,  3.88193696],\n",
       "       [ 2.60071632,  2.73824254],\n",
       "       [-4.61212237, -6.99725169],\n",
       "       [-3.50757322, -7.21024775],\n",
       "       [-5.99847452,  2.70625943],\n",
       "       [ 8.74251521, -6.71991667],\n",
       "       [ 9.23954355,  5.56872265],\n",
       "       [-8.08096874, -3.08313006],\n",
       "       [-2.22367515, -6.77585502],\n",
       "       [ 3.84994462,  5.85243608],\n",
       "       [ 8.83570712,  7.71740279],\n",
       "       [ 1.71993783, -2.76939094],\n",
       "       [ 7.0365975 ,  9.41166077],\n",
       "       [-9.73724214, -8.30369271],\n",
       "       [ 3.27494445, -1.16567659],\n",
       "       [ 3.56877873, -7.09746751],\n",
       "       [-7.48681472, -6.18515509],\n",
       "       [-7.59506748,  2.13032469],\n",
       "       [-8.745937  ,  5.03917369],\n",
       "       [-0.89583783, -2.7346282 ],\n",
       "       [-4.60203965, -8.94734208],\n",
       "       [-4.34777182,  9.46497994],\n",
       "       [-7.11138708,  5.22542323],\n",
       "       [-3.59947572,  6.66930177],\n",
       "       [-3.15668343, -4.1489559 ],\n",
       "       [ 0.60697722, -1.24567091],\n",
       "       [-8.42472714,  2.24717804],\n",
       "       [-9.5569121 ,  4.18890084],\n",
       "       [-8.95520233,  7.11544477],\n",
       "       [-2.73994998,  0.05389274],\n",
       "       [-4.55298263,  5.85290811],\n",
       "       [-7.2182897 ,  9.00930282],\n",
       "       [ 6.45258918,  5.40711223],\n",
       "       [ 7.01062633, -0.21148179],\n",
       "       [ 3.92635305,  6.62142201],\n",
       "       [-3.03962499,  8.56061117],\n",
       "       [-5.13470509, -6.93646637],\n",
       "       [-8.67561142, -8.20445947],\n",
       "       [ 4.57953345,  9.44472975],\n",
       "       [ 4.50692739,  1.46729506],\n",
       "       [ 6.51654981,  5.85700307],\n",
       "       [ 8.85302333,  6.18039046],\n",
       "       [ 9.27817814,  4.56578127],\n",
       "       [-9.14253341, -1.380123  ],\n",
       "       [ 8.46612664, -4.61158547],\n",
       "       [ 5.15151567, -0.732756  ],\n",
       "       [-5.82793767,  0.96441558],\n",
       "       [ 5.84159951,  4.32320897],\n",
       "       [-9.30004325, -8.43331897],\n",
       "       [-2.81300823,  8.59817625],\n",
       "       [-1.06321878, -2.88081279],\n",
       "       [ 0.78152728,  3.70687441],\n",
       "       [-6.6403591 ,  1.84640932],\n",
       "       [-5.07348353,  6.75840992],\n",
       "       [ 0.59158558,  7.9792883 ],\n",
       "       [-4.06218927, -5.39706448],\n",
       "       [ 3.11933178,  5.16878257],\n",
       "       [-6.06440003, -9.00801995],\n",
       "       [ 5.13737297,  8.99567715],\n",
       "       [ 9.24248397, -1.57563355],\n",
       "       [-8.200353  ,  9.04066535],\n",
       "       [ 1.41132028, -4.65829764],\n",
       "       [ 2.31543569, -6.01050698],\n",
       "       [ 2.49211854, -0.05974076],\n",
       "       [ 0.83424757,  2.4651681 ],\n",
       "       [ 7.8512454 ,  5.70896426],\n",
       "       [-3.97381053,  1.72475199],\n",
       "       [ 0.89186455,  4.14356489],\n",
       "       [-1.88310745,  1.29542629],\n",
       "       [-8.18984562,  3.49924217],\n",
       "       [ 9.4664596 , -2.16531157],\n",
       "       [-6.29303837,  5.45053921]])"
      ]
     },
     "execution_count": 3,
     "metadata": {},
     "output_type": "execute_result"
    }
   ],
   "execution_count": 3
  },
  {
   "metadata": {
    "ExecuteTime": {
     "end_time": "2024-11-06T02:13:27.845435Z",
     "start_time": "2024-11-06T02:13:27.840192Z"
    }
   },
   "cell_type": "code",
   "source": "np.linalg.norm(points[0,:])",
   "id": "7c9ffce96e6c9fdf",
   "outputs": [
    {
     "data": {
      "text/plain": [
       "2.8026918697367624"
      ]
     },
     "execution_count": 4,
     "metadata": {},
     "output_type": "execute_result"
    }
   ],
   "execution_count": 4
  },
  {
   "metadata": {
    "ExecuteTime": {
     "end_time": "2024-11-06T02:13:29.161532Z",
     "start_time": "2024-11-06T02:13:27.894242Z"
    }
   },
   "cell_type": "code",
   "source": [
    "import matplotlib.pyplot as plt\n",
    "\n",
    "# nums의 최소값과 최대값 구하기\n",
    "min_num = np.min(points)\n",
    "max_num = np.max(points)\n",
    "\n",
    "# 1차원 선 그리기\n",
    "# plt.figure(figsize=(10, 2))\n",
    "\n",
    "# nums 값들을 선 위에 점으로 시각화\n",
    "for point in points:\n",
    "    plt.scatter(point[0], point[1], color='b', s=2)\n",
    "\n",
    "plt.title('position before update')\n",
    "plt.xlabel('position')\n",
    "plt.show()"
   ],
   "id": "68e9d6400a8384a8",
   "outputs": [
    {
     "data": {
      "text/plain": [
       "<Figure size 640x480 with 1 Axes>"
      ],
      "image/png": "[encoded data removed]"
     },
     "metadata": {},
     "output_type": "display_data"
    }
   ],
   "execution_count": 5
  },
  {
   "metadata": {
    "ExecuteTime": {
     "end_time": "2024-11-06T02:13:29.171287Z",
     "start_time": "2024-11-06T02:13:29.167518Z"
    }
   },
   "cell_type": "code",
   "source": [
    "# from scipy.stats import norm\n",
    "# from scipy.spatial.distance import cdist\n",
    "# \n",
    "# count = 0\n",
    "# \n",
    "# while count < 100:\n",
    "# \n",
    "#     # dens = np.zeros(len(points))\n",
    "#     dens = []\n",
    "#     vec = np.zeros((len(points), 2))\n",
    "# \n",
    "#     for i in range(len(points)):\n",
    "#         sum_pdf = 0\n",
    "#         vec_total = 0\n",
    "# \n",
    "#         # 여기에 가우시안 넣어야 될듯\n",
    "#         for num2 in points:\n",
    "#             if not np.array_equal(points[i], num2):\n",
    "#                 # gaussian 커널로 점들간 거리에 따라 확률추정\n",
    "#                 # 이게 벡터의 크기\n",
    "#                 distance = np.linalg.norm(points[i] - num2)\n",
    "#                 p = norm.pdf(distance, 0, 1)\n",
    "#                 # 점 num에서 확률추정\n",
    "#                 sum_pdf += p\n",
    "# \n",
    "#                 vec_total += p * (points[i] - num2) / distance\n",
    "# \n",
    "#         dens.append(sum_pdf / (len(points)-1))\n",
    "#         vec[i] = vec_total\n",
    "# \n",
    "#     dens /= np.sum(dens)\n",
    "#     points += vec\n",
    "#     count += 1"
   ],
   "id": "5d306272d1841177",
   "outputs": [],
   "execution_count": 6
  },
  {
   "metadata": {},
   "cell_type": "markdown",
   "source": [
    "기울기에 따라 이동하는 방법 필요\n",
    "어디에다 projection 해야됨??????"
   ],
   "id": "ff415f92f6b5a94f"
  },
  {
   "metadata": {
    "ExecuteTime": {
     "end_time": "2024-11-06T02:13:35.864350Z",
     "start_time": "2024-11-06T02:13:29.182984Z"
    }
   },
   "cell_type": "code",
   "source": [
    "from scipy.stats import norm\n",
    "import numpy as np\n",
    "from scipy.spatial.distance import cdist\n",
    "\n",
    "# 가우시안 커널 함수\n",
    "def gaussian_kernel(x, sigma=1):\n",
    "    return np.exp(-0.5 * (x / sigma) ** 2) / (sigma * np.sqrt(2 * np.pi))\n",
    "\n",
    "count = 0\n",
    "enp = [float('inf')]\n",
    "\n",
    "while True:\n",
    "    diff_matrix = cdist(points, points)\n",
    "    \n",
    "    np.fill_diagonal(diff_matrix, np.inf)\n",
    "\n",
    "    # 가우시안 커널 밀도 계산\n",
    "    pdf_matrix = gaussian_kernel(diff_matrix)\n",
    "\n",
    "    # 각 점에서의 밀도 및 벡터 업데이트 계산\n",
    "    dens = np.sum(pdf_matrix, axis=1) / (len(points) * (len(points) - 1))\n",
    "    vec = np.sum(pdf_matrix[:, :, np.newaxis] * (points[:, np.newaxis, :] - points[np.newaxis, :, :]) / diff_matrix[:, :, np.newaxis], axis=1)\n",
    "\n",
    "    # points[:, 1] = points[:, 0] ** 2  # y값을 x^2로 고정\n",
    "\n",
    "    # 엔트로피 계산\n",
    "    current_entropy = -np.sum(dens * np.log(dens + 1e-10))  # 확률분포로 정규화한 후 로그 엔트로피 계산\n",
    "\n",
    "    enp.append(current_entropy)\n",
    "\n",
    "    # 엔트로피 변화가 매우 작을 때 중지\n",
    "    if abs(enp[-2] - current_entropy) < 1e-8 and current_entropy == min(enp):\n",
    "        break\n",
    "\n",
    "    points += 0.9 * vec  # vec의 크기 조절\n",
    "    count += 1\n"
   ],
   "id": "94d712e815c9c487",
   "outputs": [],
   "execution_count": 7
  },
  {
   "metadata": {
    "ExecuteTime": {
     "end_time": "2024-11-06T02:13:35.980085Z",
     "start_time": "2024-11-06T02:13:35.877874Z"
    }
   },
   "cell_type": "code",
   "source": [
    "print(len(enp))\n",
    "plt.plot(enp)"
   ],
   "id": "ac609c65b270653",
   "outputs": [
    {
     "name": "stdout",
     "output_type": "stream",
     "text": [
      "11933\n"
     ]
    },
    {
     "data": {
      "text/plain": [
       "[<matplotlib.lines.Line2D at 0x226a7fbe790>]"
      ]
     },
     "execution_count": 8,
     "metadata": {},
     "output_type": "execute_result"
    },
    {
     "data": {
      "text/plain": [
       "<Figure size 640x480 with 1 Axes>"
      ],
      "image/png": "[encoded data removed]"
     },
     "metadata": {},
     "output_type": "display_data"
    }
   ],
   "execution_count": 8
  },
  {
   "metadata": {
    "ExecuteTime": {
     "end_time": "2024-11-06T02:13:36.792913Z",
     "start_time": "2024-11-06T02:13:36.136077Z"
    }
   },
   "cell_type": "code",
   "source": [
    "import matplotlib.pyplot as plt\n",
    "\n",
    "# nums의 최소값과 최대값 구하기\n",
    "min_num = np.min(points)\n",
    "max_num = np.max(points)\n",
    "\n",
    "# 1차원 선 그리기\n",
    "# plt.figure(figsize=(10, 2))\n",
    "\n",
    "# nums 값들을 선 위에 점으로 시각화\n",
    "for point in points:\n",
    "    plt.scatter(point[0], point[1], color='b', s=2)\n",
    "\n",
    "plt.title('position after update')\n",
    "plt.xlabel('position')\n",
    "plt.show()"
   ],
   "id": "be0d639a712b3825",
   "outputs": [
    {
     "data": {
      "text/plain": [
       "<Figure size 640x480 with 1 Axes>"
      ],
      "image/png": "[encoded data removed]"
     },
     "metadata": {},
     "output_type": "display_data"
    }
   ],
   "execution_count": 9
  },
  {
   "metadata": {
    "ExecuteTime": {
     "end_time": "2024-11-06T02:13:42.264175Z",
     "start_time": "2024-11-06T02:13:42.257539Z"
    }
   },
   "cell_type": "code",
   "source": "vec",
   "id": "95a0f4150c8017fb",
   "outputs": [
    {
     "data": {
      "text/plain": [
       "array([[-4.79911015e-06,  2.44415731e-05],\n",
       "       [-3.74832899e-06, -4.01898289e-06],\n",
       "       [-5.36100485e-05, -5.04729185e-05],\n",
       "       [-6.16765522e-06,  5.10857586e-05],\n",
       "       [-1.36435195e-05, -9.92807977e-05],\n",
       "       [-2.29716885e-05, -2.03038957e-05],\n",
       "       [-7.85873415e-05, -4.95286996e-05],\n",
       "       [ 4.54154564e-05, -4.49196543e-05],\n",
       "       [ 3.76592720e-05, -1.22250450e-04],\n",
       "       [-5.55398033e-05,  8.61653128e-05],\n",
       "       [ 1.13825096e-04,  7.55104294e-05],\n",
       "       [-3.26339865e-05,  8.32413814e-05],\n",
       "       [ 5.03211833e-05,  1.25069430e-05],\n",
       "       [-4.11394000e-05, -9.66227943e-05],\n",
       "       [ 7.99986586e-05, -1.01516092e-04],\n",
       "       [-1.02243063e-04,  3.22595690e-05],\n",
       "       [ 5.77626388e-05, -3.34439292e-05],\n",
       "       [-6.26995894e-05,  5.91103647e-05],\n",
       "       [ 8.00438152e-05,  9.58723221e-05],\n",
       "       [ 7.90076453e-05,  1.41372669e-05],\n",
       "       [ 2.07052285e-05,  7.81974210e-05],\n",
       "       [-2.95006719e-05, -6.91720716e-05],\n",
       "       [-6.01076751e-06, -7.54045762e-05],\n",
       "       [-4.57604933e-07,  9.31080360e-05],\n",
       "       [ 1.13154018e-04, -4.70773390e-05],\n",
       "       [ 1.03119670e-04, -1.84326172e-06],\n",
       "       [ 4.25821031e-05, -8.58427277e-05],\n",
       "       [ 3.41856307e-05,  9.91001776e-05],\n",
       "       [-2.89112031e-05,  3.41525997e-05],\n",
       "       [ 4.58338891e-05,  1.00007001e-05],\n",
       "       [-6.49557078e-05, -9.66988084e-05],\n",
       "       [ 9.31966601e-06, -1.30873075e-04],\n",
       "       [-8.24344311e-05,  1.86105327e-05],\n",
       "       [ 6.58060999e-05, -8.86749742e-05],\n",
       "       [ 1.30931450e-04,  2.95558713e-05],\n",
       "       [-8.69178303e-05, -5.12712223e-05],\n",
       "       [ 1.46172846e-05, -1.05979325e-04],\n",
       "       [ 5.96870760e-05,  9.87337866e-05],\n",
       "       [ 1.35719681e-04,  5.13317865e-05],\n",
       "       [ 3.92682773e-06, -5.65935658e-05],\n",
       "       [ 6.47152953e-05,  1.30848515e-04],\n",
       "       [-1.26098124e-04, -3.98576704e-05],\n",
       "       [ 1.83004830e-05, -4.77856760e-05],\n",
       "       [ 5.45438110e-05, -6.03966987e-05],\n",
       "       [-8.80492750e-05, -7.84028682e-05],\n",
       "       [-9.76513807e-05, -1.59748215e-06],\n",
       "       [-9.40460936e-05,  5.99876869e-05],\n",
       "       [-1.83597190e-05, -4.87433385e-05],\n",
       "       [-2.53353666e-05, -1.12951145e-04],\n",
       "       [-2.36583876e-05,  9.60289160e-05],\n",
       "       [-8.43129095e-05,  2.73406191e-05],\n",
       "       [-1.16968807e-06,  6.26261396e-05],\n",
       "       [-6.24143138e-05, -2.72694955e-05],\n",
       "       [-3.24638822e-06, -3.11916127e-05],\n",
       "       [-1.41526683e-04, -4.30605729e-05],\n",
       "       [-1.32582060e-04, -1.11465605e-05],\n",
       "       [-9.24815990e-05,  9.03723145e-05],\n",
       "       [-4.41636854e-05, -1.09581023e-05],\n",
       "       [-3.58142786e-05,  5.51950662e-05],\n",
       "       [-5.35344685e-05,  1.18560616e-04],\n",
       "       [ 5.19694824e-05,  6.99931298e-05],\n",
       "       [ 7.59641086e-05, -1.32155607e-05],\n",
       "       [ 5.95418771e-05,  1.06558349e-04],\n",
       "       [-3.42182928e-05,  5.65699688e-05],\n",
       "       [-6.12693349e-05, -7.38276761e-05],\n",
       "       [-7.09434651e-05, -9.65252038e-05],\n",
       "       [ 3.77884732e-05,  1.36746548e-04],\n",
       "       [ 4.42543084e-05, -1.74383473e-05],\n",
       "       [ 8.38683815e-05,  7.14354781e-05],\n",
       "       [ 1.07515407e-04,  4.68995139e-05],\n",
       "       [ 1.03613123e-04,  2.23699511e-05],\n",
       "       [-1.09430063e-04, -2.96785401e-05],\n",
       "       [ 8.02293604e-05, -5.89698072e-05],\n",
       "       [ 9.99329143e-05, -2.16845225e-05],\n",
       "       [-8.12883867e-05, -2.32400920e-05],\n",
       "       [ 5.03304949e-05,  4.05598392e-05],\n",
       "       [-5.97797772e-05, -1.10597174e-04],\n",
       "       [-1.24458743e-05,  7.13807651e-05],\n",
       "       [-3.81986974e-05, -3.96283793e-05],\n",
       "       [ 2.10047900e-05,  3.59909309e-05],\n",
       "       [-6.85671257e-05, -2.02620428e-06],\n",
       "       [-6.62536329e-05,  5.06745085e-05],\n",
       "       [ 5.01007027e-05,  7.09194836e-05],\n",
       "       [-3.50219946e-05, -7.07675958e-05],\n",
       "       [ 5.47564388e-05,  4.05975066e-05],\n",
       "       [-6.27717560e-05, -1.34209775e-04],\n",
       "       [ 9.01151384e-05,  1.02536637e-04],\n",
       "       [ 1.15782855e-04, -1.96951822e-05],\n",
       "       [-5.16825261e-05,  8.36668330e-05],\n",
       "       [ 2.24651626e-05, -7.72269139e-05],\n",
       "       [ 3.68664796e-05, -5.33291725e-05],\n",
       "       [ 2.08637647e-05, -2.05496048e-05],\n",
       "       [ 1.85096810e-05,  6.60814411e-06],\n",
       "       [ 7.89868986e-05,  4.19132000e-05],\n",
       "       [-5.13852089e-05,  1.61652450e-05],\n",
       "       [ 2.79049634e-05,  5.76758192e-05],\n",
       "       [-2.64431033e-05,  8.18296599e-06],\n",
       "       [-1.18523554e-04,  1.96939056e-05],\n",
       "       [ 1.11894679e-04, -7.22438452e-05],\n",
       "       [-5.58025016e-05,  3.47835507e-05]])"
      ]
     },
     "execution_count": 10,
     "metadata": {},
     "output_type": "execute_result"
    }
   ],
   "execution_count": 10
  }
 ],
 "metadata": {
  "kernelspec": {
   "display_name": "Python 3",
   "language": "python",
   "name": "python3"
  },
  "language_info": {
   "codemirror_mode": {
    "name": "ipython",
    "version": 2
   },
   "file_extension": ".py",
   "mimetype": "text/x-python",
   "name": "python",
   "nbconvert_exporter": "python",
   "pygments_lexer": "ipython2",
   "version": "2.7.6"
  }
 },
 "nbformat": 4,
 "nbformat_minor": 5
}
