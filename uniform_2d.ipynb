{
 "cells": [
  {
   "cell_type": "code",
   "id": "initial_id",
   "metadata": {
    "collapsed": true,
    "ExecuteTime": {
     "end_time": "2024-10-31T09:12:13.463873Z",
     "start_time": "2024-10-31T09:12:13.460357Z"
    }
   },
   "source": [
    "import numpy as np\n",
    "import math\n",
    "\n",
    "points = np.random.uniform(low=-10, high=10, size=(100, 2))\n",
    "points = np.asarray(points)"
   ],
   "outputs": [],
   "execution_count": 143
  },
  {
   "metadata": {
    "ExecuteTime": {
     "end_time": "2024-10-31T09:12:13.487554Z",
     "start_time": "2024-10-31T09:12:13.484058Z"
    }
   },
   "cell_type": "code",
   "source": [
    "# x = np.random.uniform(-10, 10, 300)\n",
    "# \n",
    "# points = []\n",
    "# \n",
    "# for i in x:\n",
    "#     points.append((i,i**2))\n",
    "# points = np.asarray(points)"
   ],
   "id": "feda27203debb872",
   "outputs": [],
   "execution_count": 144
  },
  {
   "metadata": {
    "ExecuteTime": {
     "end_time": "2024-10-31T09:12:13.509404Z",
     "start_time": "2024-10-31T09:12:13.502978Z"
    }
   },
   "cell_type": "code",
   "source": "points",
   "id": "a93c2c794f4e5abb",
   "outputs": [
    {
     "data": {
      "text/plain": [
       "array([[-0.62735685,  4.3158337 ],\n",
       "       [ 9.08125758, -7.53797031],\n",
       "       [ 4.80744153, -1.81782768],\n",
       "       [-0.68269991, -5.49185028],\n",
       "       [-5.39022588,  6.78355637],\n",
       "       [-6.76823367, -3.21328037],\n",
       "       [-5.58098014, -0.15472254],\n",
       "       [ 7.20883811,  0.17423589],\n",
       "       [ 3.70782644,  4.09741509],\n",
       "       [-6.49066345,  9.06147658],\n",
       "       [-5.92691967, -4.49956   ],\n",
       "       [-1.247318  , -6.16192276],\n",
       "       [-3.45186735, -2.88316568],\n",
       "       [ 2.69451927, -1.33360782],\n",
       "       [ 1.68522395, -9.47191189],\n",
       "       [ 3.93624959, -5.56962717],\n",
       "       [-6.28753585, -8.22501308],\n",
       "       [-5.28684549,  0.67171538],\n",
       "       [-3.77019709, -1.71066815],\n",
       "       [-6.93699369,  1.36842113],\n",
       "       [-9.99124225, -8.36111203],\n",
       "       [-0.83372265,  5.85165073],\n",
       "       [-4.68655151,  8.18990288],\n",
       "       [ 3.73829761,  4.31045529],\n",
       "       [ 6.98871782, -9.07421791],\n",
       "       [ 5.89287643,  2.32928729],\n",
       "       [ 3.22658972,  8.28593305],\n",
       "       [-9.11173587, -4.57332956],\n",
       "       [ 8.14915381,  8.16341878],\n",
       "       [-8.50513359, -7.75987313],\n",
       "       [ 5.62958893, -1.37443562],\n",
       "       [ 1.89874895,  5.28353877],\n",
       "       [ 2.89010654, -0.7392899 ],\n",
       "       [ 5.34744522, -2.1449047 ],\n",
       "       [-0.47628435,  0.39708914],\n",
       "       [ 5.0245283 ,  9.91543659],\n",
       "       [-0.08315186,  3.68071612],\n",
       "       [-5.9247154 , -6.64250189],\n",
       "       [-9.06081872,  9.25111278],\n",
       "       [-0.67978089, -9.57916435],\n",
       "       [-0.69554182, -8.31450611],\n",
       "       [ 3.99745099, -9.93756867],\n",
       "       [ 3.7616813 , -1.04145302],\n",
       "       [-7.74788767,  2.12603144],\n",
       "       [-4.61920734,  5.51538616],\n",
       "       [ 1.07451698,  2.90695041],\n",
       "       [ 7.36536434,  1.55074947],\n",
       "       [ 6.87018038, -9.57019227],\n",
       "       [ 3.48803709, -2.53531518],\n",
       "       [ 9.12028656,  1.43286867],\n",
       "       [-7.68523401, -6.64213899],\n",
       "       [-7.85236586, -3.49249085],\n",
       "       [ 0.38541693, -9.96291004],\n",
       "       [-4.75317034, -8.22848697],\n",
       "       [-3.11805835,  1.67912278],\n",
       "       [ 0.92084758,  1.05714116],\n",
       "       [-7.97417983,  1.97866916],\n",
       "       [ 1.90962687, -6.1301481 ],\n",
       "       [ 7.5809488 , -1.44144998],\n",
       "       [ 1.1461183 ,  7.0077676 ],\n",
       "       [-6.46282061, -5.78896354],\n",
       "       [-9.99081304, -1.44184537],\n",
       "       [-6.77239912, -2.46263891],\n",
       "       [-1.20665249,  6.1657905 ],\n",
       "       [ 2.73374699,  2.9867349 ],\n",
       "       [-0.22359207, -4.74955871],\n",
       "       [-3.79793438, -7.62699565],\n",
       "       [-6.69588224,  2.64633362],\n",
       "       [ 8.34548685,  6.29440164],\n",
       "       [-5.41451435, -6.14392534],\n",
       "       [-4.49833521,  8.11757234],\n",
       "       [-3.01401876, -9.76797193],\n",
       "       [ 4.97307989,  6.92081271],\n",
       "       [-0.63911382, -2.1019897 ],\n",
       "       [ 6.47981035, -4.79903892],\n",
       "       [-1.09780107,  8.88849951],\n",
       "       [ 7.84528302, -0.86240184],\n",
       "       [-5.64695369,  9.81478603],\n",
       "       [ 8.31730046,  8.3541891 ],\n",
       "       [ 0.56290325, -9.07231546],\n",
       "       [-4.35035751,  4.08573848],\n",
       "       [-7.5721664 , -1.9757173 ],\n",
       "       [-1.14880193, -4.66854443],\n",
       "       [ 7.15099945,  4.42922382],\n",
       "       [ 2.31610878,  3.80358422],\n",
       "       [ 7.95632953,  0.12785261],\n",
       "       [-3.486324  , -4.65498406],\n",
       "       [-5.63312338, -8.33006234],\n",
       "       [ 0.51309487, -2.49130584],\n",
       "       [ 3.86177646,  5.79745889],\n",
       "       [-6.01130952,  1.99623063],\n",
       "       [ 5.39601888, -4.495473  ],\n",
       "       [-1.43413015, -6.28388287],\n",
       "       [ 2.0222679 , -2.84822137],\n",
       "       [-5.47226341,  5.03272056],\n",
       "       [-2.63300863,  1.66715744],\n",
       "       [ 2.01357094,  5.08659626],\n",
       "       [ 5.54976058, -3.91893269],\n",
       "       [ 3.4163868 , -6.35415816],\n",
       "       [ 1.08116944, -0.75808025]])"
      ]
     },
     "execution_count": 145,
     "metadata": {},
     "output_type": "execute_result"
    }
   ],
   "execution_count": 145
  },
  {
   "metadata": {
    "ExecuteTime": {
     "end_time": "2024-10-31T09:12:14.277620Z",
     "start_time": "2024-10-31T09:12:13.554344Z"
    }
   },
   "cell_type": "code",
   "source": [
    "import matplotlib.pyplot as plt\n",
    "\n",
    "# nums의 최소값과 최대값 구하기\n",
    "min_num = np.min(points)\n",
    "max_num = np.max(points)\n",
    "\n",
    "# 1차원 선 그리기\n",
    "# plt.figure(figsize=(10, 2))\n",
    "\n",
    "# nums 값들을 선 위에 점으로 시각화\n",
    "for point in points:\n",
    "    plt.scatter(point[0], point[1], color='b', s=2)\n",
    "\n",
    "plt.title('position before update')\n",
    "plt.xlabel('position')\n",
    "plt.show()"
   ],
   "id": "68e9d6400a8384a8",
   "outputs": [
    {
     "data": {
      "text/plain": [
       "<Figure size 640x480 with 1 Axes>"
      ],
      "image/png": "[encoded data removed]"
     },
     "metadata": {},
     "output_type": "display_data"
    }
   ],
   "execution_count": 146
  },
  {
   "metadata": {
    "ExecuteTime": {
     "end_time": "2024-10-31T09:13:41.677722Z",
     "start_time": "2024-10-31T09:12:14.308812Z"
    }
   },
   "cell_type": "code",
   "source": [
    "from scipy.stats import norm\n",
    "\n",
    "count = 0\n",
    "\n",
    "while count < 100:\n",
    "\n",
    "    # dens = np.zeros(len(points))\n",
    "    dens = []\n",
    "    vec = np.zeros((len(points), 2))\n",
    "    \n",
    "    for i in range(len(points)):\n",
    "        sum_pdf = 0\n",
    "        vec_total = 0\n",
    "        \n",
    "        # 여기에 가우시안 넣어야 될듯\n",
    "        for num2 in points:\n",
    "            if not np.array_equal(points[i], num2):\n",
    "                # gaussian 커널로 점들간 거리에 따라 확률추정\n",
    "                # 이게 벡터의 크기\n",
    "                distance = np.linalg.norm(points[i] - num2)\n",
    "                p = norm.pdf(distance, 0, 1)\n",
    "                # 점 num에서 확률추정\n",
    "                sum_pdf += p\n",
    "            \n",
    "                vec_total += p * (points[i] - num2) / distance\n",
    "                \n",
    "        dens.append(sum_pdf / (len(points)-1))\n",
    "        vec[i] = vec_total\n",
    "    \n",
    "    dens /= np.sum(dens)\n",
    "    points += vec\n",
    "    count += 1"
   ],
   "id": "5d306272d1841177",
   "outputs": [],
   "execution_count": 147
  },
  {
   "metadata": {},
   "cell_type": "markdown",
   "source": [
    "기울기에 따라 이동하는 방법 필요\n",
    "어디에다 projection 해야됨??????"
   ],
   "id": "ff415f92f6b5a94f"
  },
  {
   "metadata": {
    "ExecuteTime": {
     "end_time": "2024-10-31T09:13:42.370621Z",
     "start_time": "2024-10-31T09:13:41.681095Z"
    }
   },
   "cell_type": "code",
   "source": [
    "import matplotlib.pyplot as plt\n",
    "\n",
    "# nums의 최소값과 최대값 구하기\n",
    "min_num = np.min(points)\n",
    "max_num = np.max(points)\n",
    "\n",
    "# 1차원 선 그리기\n",
    "# plt.figure(figsize=(10, 2))\n",
    "\n",
    "# nums 값들을 선 위에 점으로 시각화\n",
    "for point in points:\n",
    "    plt.scatter(point[0], point[1], color='b', s=2)\n",
    "\n",
    "plt.title('position after update')\n",
    "plt.xlabel('position')\n",
    "plt.show()"
   ],
   "id": "be0d639a712b3825",
   "outputs": [
    {
     "data": {
      "text/plain": [
       "<Figure size 640x480 with 1 Axes>"
      ],
      "image/png": "[encoded data removed]"
     },
     "metadata": {},
     "output_type": "display_data"
    }
   ],
   "execution_count": 148
  }
 ],
 "metadata": {
  "kernelspec": {
   "display_name": "Python 3",
   "language": "python",
   "name": "python3"
  },
  "language_info": {
   "codemirror_mode": {
    "name": "ipython",
    "version": 2
   },
   "file_extension": ".py",
   "mimetype": "text/x-python",
   "name": "python",
   "nbconvert_exporter": "python",
   "pygments_lexer": "ipython2",
   "version": "2.7.6"
  }
 },
 "nbformat": 4,
 "nbformat_minor": 5
}
