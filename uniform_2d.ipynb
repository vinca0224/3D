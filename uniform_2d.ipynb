{
 "cells": [
  {
   "cell_type": "code",
   "id": "initial_id",
   "metadata": {
    "collapsed": true,
    "ExecuteTime": {
     "end_time": "2024-11-04T09:22:16.081447Z",
     "start_time": "2024-11-04T09:22:16.077275Z"
    }
   },
   "source": [
    "import numpy as np\n",
    "import math\n",
    "\n",
    "points = np.random.uniform(low=-10, high=10, size=(100, 2))\n",
    "points = np.asarray(points)"
   ],
   "outputs": [],
   "execution_count": 87
  },
  {
   "metadata": {
    "ExecuteTime": {
     "end_time": "2024-11-04T09:22:16.103308Z",
     "start_time": "2024-11-04T09:22:16.100416Z"
    }
   },
   "cell_type": "code",
   "source": [
    "# x = np.random.uniform(-10, 10, 100)\n",
    "# \n",
    "# points = []\n",
    "# \n",
    "# for i in x:\n",
    "#     points.append((i,i**2))\n",
    "# points = np.asarray(points)"
   ],
   "id": "feda27203debb872",
   "outputs": [],
   "execution_count": 88
  },
  {
   "metadata": {
    "ExecuteTime": {
     "end_time": "2024-11-04T09:22:16.124871Z",
     "start_time": "2024-11-04T09:22:16.117939Z"
    }
   },
   "cell_type": "code",
   "source": "points",
   "id": "a93c2c794f4e5abb",
   "outputs": [
    {
     "data": {
      "text/plain": [
       "array([[-6.04227885, -5.84012347],\n",
       "       [ 2.62135168,  7.23934393],\n",
       "       [ 0.24965227,  9.84412629],\n",
       "       [ 5.35089176,  2.24845615],\n",
       "       [ 9.48900514,  6.31048338],\n",
       "       [ 0.98126982,  5.79272842],\n",
       "       [ 9.0115688 , -0.39347096],\n",
       "       [ 9.72796719,  2.6382637 ],\n",
       "       [ 9.05386658,  2.68870747],\n",
       "       [ 1.67483526,  3.57323733],\n",
       "       [-4.38971721, -0.53208132],\n",
       "       [ 5.82209   ,  7.86547408],\n",
       "       [-5.36944639,  0.6373031 ],\n",
       "       [-6.00084859,  7.78902886],\n",
       "       [ 0.59194204, -6.22141445],\n",
       "       [ 5.51238377,  2.06320503],\n",
       "       [ 5.51303831,  7.78766879],\n",
       "       [ 2.98612439,  0.57112021],\n",
       "       [-4.1702599 , -7.69039386],\n",
       "       [ 4.80507916,  4.60742698],\n",
       "       [ 3.3301961 , -0.52336628],\n",
       "       [-7.45863071,  9.22862045],\n",
       "       [ 9.47902607,  6.89571458],\n",
       "       [ 1.06245298, -7.94553823],\n",
       "       [-9.08447595, -4.84736236],\n",
       "       [ 0.30445408, -7.64370682],\n",
       "       [ 6.51264895, -0.61966009],\n",
       "       [-9.88581066,  3.16490247],\n",
       "       [ 1.01698903,  3.76957913],\n",
       "       [-7.98556795,  9.19558512],\n",
       "       [ 0.74797412,  3.15709911],\n",
       "       [ 4.99973068,  7.32673626],\n",
       "       [-4.89516989,  0.93189214],\n",
       "       [ 9.07154124,  8.43831085],\n",
       "       [ 3.90510585, -0.79574417],\n",
       "       [-8.9763119 ,  1.0194703 ],\n",
       "       [ 7.67987798,  0.75255024],\n",
       "       [ 8.83894365, -3.8797163 ],\n",
       "       [-4.64892071, -5.33512247],\n",
       "       [ 7.43917861,  1.36963368],\n",
       "       [ 8.49272566,  4.7216283 ],\n",
       "       [-9.87260243,  5.75042489],\n",
       "       [ 9.01314783,  9.73551291],\n",
       "       [ 9.638435  ,  2.51403531],\n",
       "       [-8.15783674,  2.79877744],\n",
       "       [ 0.19001628,  8.09222954],\n",
       "       [ 0.19813225, -9.37476266],\n",
       "       [-7.03074846,  7.20418568],\n",
       "       [-4.27125868, -3.10469104],\n",
       "       [-7.75903859,  2.09292429],\n",
       "       [ 5.16728115,  8.45182219],\n",
       "       [-1.0755086 , -8.49802081],\n",
       "       [ 1.22901564,  2.85448837],\n",
       "       [-6.33582719, -3.97953839],\n",
       "       [ 5.69872053,  7.47915463],\n",
       "       [-3.91631387, -2.66378452],\n",
       "       [-3.39003909,  5.42909125],\n",
       "       [ 1.77944263,  6.37362484],\n",
       "       [ 0.84294727,  1.06139808],\n",
       "       [-6.84958616, -5.11499776],\n",
       "       [ 0.57145612,  6.46982258],\n",
       "       [ 2.90573937, -8.36354056],\n",
       "       [ 1.23246885, -0.72012952],\n",
       "       [ 5.08281373,  7.28217892],\n",
       "       [ 3.27895241, -8.77571834],\n",
       "       [-7.75142582,  4.97780887],\n",
       "       [ 5.35837011, -1.97962386],\n",
       "       [ 8.63356414,  8.84124588],\n",
       "       [-9.31156635, -8.30365992],\n",
       "       [ 7.63115764,  1.29538042],\n",
       "       [ 0.90503535,  0.03849934],\n",
       "       [ 5.47438186, -1.14418849],\n",
       "       [ 3.0631836 , -1.44544348],\n",
       "       [ 9.6641185 , -0.25888685],\n",
       "       [-4.58285185,  0.89930102],\n",
       "       [-8.65618514,  7.8888132 ],\n",
       "       [ 0.52833608,  9.52333245],\n",
       "       [-0.6486888 ,  2.42118457],\n",
       "       [-6.86855118, -2.15462903],\n",
       "       [-5.78128186, -7.8913326 ],\n",
       "       [ 6.20249345, -5.01302809],\n",
       "       [ 2.09966301, -0.33484363],\n",
       "       [-2.42362899,  6.93973819],\n",
       "       [-8.69960914,  9.73226067],\n",
       "       [-4.50624157,  6.0994274 ],\n",
       "       [ 7.91417195, -5.43509048],\n",
       "       [ 0.94681331,  9.45000787],\n",
       "       [ 0.71961028,  8.50712477],\n",
       "       [-3.73708975, -7.89108299],\n",
       "       [ 9.39215004,  7.66091489],\n",
       "       [ 4.76602033, -1.5015873 ],\n",
       "       [ 2.00208462,  4.70273987],\n",
       "       [-2.59128735, -7.40057707],\n",
       "       [ 5.93993039,  5.04120756],\n",
       "       [-5.72167768,  3.50405456],\n",
       "       [ 8.67829204, -3.00103307],\n",
       "       [ 6.30257954,  9.84587609],\n",
       "       [ 7.53412416,  8.07860861],\n",
       "       [-9.82340393, -0.18585539],\n",
       "       [ 5.25989356,  1.83371036]])"
      ]
     },
     "execution_count": 89,
     "metadata": {},
     "output_type": "execute_result"
    }
   ],
   "execution_count": 89
  },
  {
   "metadata": {
    "ExecuteTime": {
     "end_time": "2024-11-04T09:22:16.181536Z",
     "start_time": "2024-11-04T09:22:16.175899Z"
    }
   },
   "cell_type": "code",
   "source": "np.linalg.norm(points[0,:])",
   "id": "7c9ffce96e6c9fdf",
   "outputs": [
    {
     "data": {
      "text/plain": [
       "8.40334313897432"
      ]
     },
     "execution_count": 90,
     "metadata": {},
     "output_type": "execute_result"
    }
   ],
   "execution_count": 90
  },
  {
   "metadata": {
    "ExecuteTime": {
     "end_time": "2024-11-04T09:22:17.134228Z",
     "start_time": "2024-11-04T09:22:16.280497Z"
    }
   },
   "cell_type": "code",
   "source": [
    "import matplotlib.pyplot as plt\n",
    "\n",
    "# nums의 최소값과 최대값 구하기\n",
    "min_num = np.min(points)\n",
    "max_num = np.max(points)\n",
    "\n",
    "# 1차원 선 그리기\n",
    "# plt.figure(figsize=(10, 2))\n",
    "\n",
    "# nums 값들을 선 위에 점으로 시각화\n",
    "for point in points:\n",
    "    plt.scatter(point[0], point[1], color='b', s=2)\n",
    "\n",
    "plt.title('position before update')\n",
    "plt.xlabel('position')\n",
    "plt.show()"
   ],
   "id": "68e9d6400a8384a8",
   "outputs": [
    {
     "data": {
      "text/plain": [
       "<Figure size 640x480 with 1 Axes>"
      ],
      "image/png": "[encoded data removed]"
     },
     "metadata": {},
     "output_type": "display_data"
    }
   ],
   "execution_count": 91
  },
  {
   "metadata": {
    "ExecuteTime": {
     "end_time": "2024-11-04T09:22:17.144250Z",
     "start_time": "2024-11-04T09:22:17.141212Z"
    }
   },
   "cell_type": "code",
   "source": [
    "# from scipy.stats import norm\n",
    "# from scipy.spatial.distance import cdist\n",
    "# \n",
    "# count = 0\n",
    "# \n",
    "# while count < 100:\n",
    "# \n",
    "#     # dens = np.zeros(len(points))\n",
    "#     dens = []\n",
    "#     vec = np.zeros((len(points), 2))\n",
    "# \n",
    "#     for i in range(len(points)):\n",
    "#         sum_pdf = 0\n",
    "#         vec_total = 0\n",
    "# \n",
    "#         # 여기에 가우시안 넣어야 될듯\n",
    "#         for num2 in points:\n",
    "#             if not np.array_equal(points[i], num2):\n",
    "#                 # gaussian 커널로 점들간 거리에 따라 확률추정\n",
    "#                 # 이게 벡터의 크기\n",
    "#                 distance = np.linalg.norm(points[i] - num2)\n",
    "#                 p = norm.pdf(distance, 0, 1)\n",
    "#                 # 점 num에서 확률추정\n",
    "#                 sum_pdf += p\n",
    "# \n",
    "#                 vec_total += p * (points[i] - num2) / distance\n",
    "# \n",
    "#         dens.append(sum_pdf / (len(points)-1))\n",
    "#         vec[i] = vec_total\n",
    "# \n",
    "#     dens /= np.sum(dens)\n",
    "#     points += vec\n",
    "#     count += 1"
   ],
   "id": "5d306272d1841177",
   "outputs": [],
   "execution_count": 92
  },
  {
   "metadata": {},
   "cell_type": "markdown",
   "source": [
    "기울기에 따라 이동하는 방법 필요\n",
    "어디에다 projection 해야됨??????"
   ],
   "id": "ff415f92f6b5a94f"
  },
  {
   "metadata": {
    "ExecuteTime": {
     "end_time": "2024-11-04T09:22:22.977255Z",
     "start_time": "2024-11-04T09:22:17.168186Z"
    }
   },
   "cell_type": "code",
   "source": [
    "from scipy.stats import norm\n",
    "import numpy as np\n",
    "from scipy.spatial.distance import cdist\n",
    "\n",
    "# 가우시안 커널 함수\n",
    "def gaussian_kernel(x, sigma=1):\n",
    "    return np.exp(-0.5 * (x / sigma) ** 2) / (sigma * np.sqrt(2 * np.pi))\n",
    "\n",
    "count = 0\n",
    "enp = [float('inf')]\n",
    "\n",
    "while True:\n",
    "    diff_matrix = cdist(points, points)\n",
    "    \n",
    "    np.fill_diagonal(diff_matrix, np.inf)\n",
    "\n",
    "    # 가우시안 커널 밀도 계산\n",
    "    pdf_matrix = gaussian_kernel(diff_matrix)\n",
    "\n",
    "    # 각 점에서의 밀도 및 벡터 업데이트 계산\n",
    "    dens = np.sum(pdf_matrix, axis=1) / (len(points) * (len(points) - 1))\n",
    "    vec = np.sum(pdf_matrix[:, :, np.newaxis] * (points[:, np.newaxis, :] - points[np.newaxis, :, :]) / diff_matrix[:, :, np.newaxis], axis=1)\n",
    "\n",
    "    # points[:, 1] = points[:, 0] ** 2  # y값을 x^2로 고정\n",
    "\n",
    "    # 엔트로피 계산\n",
    "    current_entropy = -np.sum(dens * np.log(dens + 1e-10))  # 확률분포로 정규화한 후 로그 엔트로피 계산\n",
    "\n",
    "    enp.append(current_entropy)\n",
    "\n",
    "    # 엔트로피 변화가 매우 작을 때 중지\n",
    "    if abs(enp[-2] - current_entropy) < 1e-8 and current_entropy == min(enp):\n",
    "        break\n",
    "\n",
    "    points += 0.9 * vec  # vec의 크기 조절\n",
    "    count += 1\n"
   ],
   "id": "94d712e815c9c487",
   "outputs": [],
   "execution_count": 93
  },
  {
   "metadata": {
    "ExecuteTime": {
     "end_time": "2024-11-04T09:22:23.085173Z",
     "start_time": "2024-11-04T09:22:22.989299Z"
    }
   },
   "cell_type": "code",
   "source": [
    "print(len(enp))\n",
    "plt.plot(enp)"
   ],
   "id": "ac609c65b270653",
   "outputs": [
    {
     "name": "stdout",
     "output_type": "stream",
     "text": [
      "11874\n"
     ]
    },
    {
     "data": {
      "text/plain": [
       "[<matplotlib.lines.Line2D at 0x1f5e0456050>]"
      ]
     },
     "execution_count": 94,
     "metadata": {},
     "output_type": "execute_result"
    },
    {
     "data": {
      "text/plain": [
       "<Figure size 640x480 with 1 Axes>"
      ],
      "image/png": "[encoded data removed]"
     },
     "metadata": {},
     "output_type": "display_data"
    }
   ],
   "execution_count": 94
  },
  {
   "metadata": {
    "ExecuteTime": {
     "end_time": "2024-11-04T09:22:23.777249Z",
     "start_time": "2024-11-04T09:22:23.141267Z"
    }
   },
   "cell_type": "code",
   "source": [
    "import matplotlib.pyplot as plt\n",
    "\n",
    "# nums의 최소값과 최대값 구하기\n",
    "min_num = np.min(points)\n",
    "max_num = np.max(points)\n",
    "\n",
    "# 1차원 선 그리기\n",
    "# plt.figure(figsize=(10, 2))\n",
    "\n",
    "# nums 값들을 선 위에 점으로 시각화\n",
    "for point in points:\n",
    "    plt.scatter(point[0], point[1], color='b', s=2)\n",
    "\n",
    "plt.title('position after update')\n",
    "plt.xlabel('position')\n",
    "plt.show()"
   ],
   "id": "be0d639a712b3825",
   "outputs": [
    {
     "data": {
      "text/plain": [
       "<Figure size 640x480 with 1 Axes>"
      ],
      "image/png": "[encoded data removed]"
     },
     "metadata": {},
     "output_type": "display_data"
    }
   ],
   "execution_count": 95
  }
 ],
 "metadata": {
  "kernelspec": {
   "display_name": "Python 3",
   "language": "python",
   "name": "python3"
  },
  "language_info": {
   "codemirror_mode": {
    "name": "ipython",
    "version": 2
   },
   "file_extension": ".py",
   "mimetype": "text/x-python",
   "name": "python",
   "nbconvert_exporter": "python",
   "pygments_lexer": "ipython2",
   "version": "2.7.6"
  }
 },
 "nbformat": 4,
 "nbformat_minor": 5
}
