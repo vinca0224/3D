{
 "cells": [
  {
   "metadata": {
    "collapsed": true,
    "ExecuteTime": {
     "end_time": "2024-11-06T06:48:51.562308Z",
     "start_time": "2024-11-06T06:48:51.558190Z"
    }
   },
   "cell_type": "code",
   "source": [
    "import numpy as np\n",
    "import math\n",
    "\n",
    "points = np.random.uniform(low=-10, high=10, size=(100, 2))\n",
    "points = np.asarray(points)"
   ],
   "id": "initial_id",
   "outputs": [],
   "execution_count": 171
  },
  {
   "metadata": {
    "ExecuteTime": {
     "end_time": "2024-11-06T06:48:51.594417Z",
     "start_time": "2024-11-06T06:48:51.590733Z"
    }
   },
   "cell_type": "code",
   "source": [
    "# x = np.random.uniform(-10, 10, 100)\n",
    "# \n",
    "# points = []\n",
    "# \n",
    "# for i in x:\n",
    "#     points.append((i,i**2))\n",
    "# points = np.asarray(points)"
   ],
   "id": "feda27203debb872",
   "outputs": [],
   "execution_count": 172
  },
  {
   "metadata": {
    "ExecuteTime": {
     "end_time": "2024-11-06T06:48:51.614649Z",
     "start_time": "2024-11-06T06:48:51.611206Z"
    }
   },
   "cell_type": "code",
   "source": "test_points = points.copy()",
   "id": "79f5417c3cfbbb2",
   "outputs": [],
   "execution_count": 173
  },
  {
   "metadata": {
    "ExecuteTime": {
     "end_time": "2024-11-06T06:48:51.640060Z",
     "start_time": "2024-11-06T06:48:51.634506Z"
    }
   },
   "cell_type": "code",
   "source": "points",
   "id": "a93c2c794f4e5abb",
   "outputs": [
    {
     "data": {
      "text/plain": [
       "array([[ 6.20349   , -1.93564195],\n",
       "       [-8.5839693 ,  3.75246645],\n",
       "       [-4.52514096, -2.47751388],\n",
       "       [ 1.25984999, -8.11273097],\n",
       "       [ 9.04450062,  2.5232785 ],\n",
       "       [-4.23548603, -8.30894486],\n",
       "       [-7.37100783,  8.64362767],\n",
       "       [-6.19865397,  9.68357172],\n",
       "       [-1.83242475, -2.1118248 ],\n",
       "       [-2.93647095, -3.75891991],\n",
       "       [-7.99030115,  9.57101425],\n",
       "       [ 1.6544522 , -8.06941531],\n",
       "       [-6.43561567, -0.42574744],\n",
       "       [ 2.47849819,  5.61228706],\n",
       "       [-5.7019299 , -9.77792754],\n",
       "       [ 1.0125935 , -3.38899777],\n",
       "       [-9.82344814, -4.00597485],\n",
       "       [-8.00656744,  6.82067326],\n",
       "       [ 7.5710866 , -2.1023579 ],\n",
       "       [ 4.31486747, -1.53694988],\n",
       "       [ 3.14072652,  3.79710356],\n",
       "       [ 4.90276476,  7.53781022],\n",
       "       [-4.98558072, -6.99403886],\n",
       "       [-9.087815  , -2.72805031],\n",
       "       [ 6.65975529, -9.23277058],\n",
       "       [-8.55903404, -4.82927944],\n",
       "       [ 7.52322755,  4.6952731 ],\n",
       "       [ 1.62654105,  4.34524416],\n",
       "       [-1.79178848,  5.45216758],\n",
       "       [ 5.3730626 ,  1.28953863],\n",
       "       [ 2.63626513, -4.77281324],\n",
       "       [-5.33203382,  1.79833293],\n",
       "       [-0.74586817,  7.69515563],\n",
       "       [ 3.81189546,  9.86435217],\n",
       "       [-5.68392768, -7.05041063],\n",
       "       [ 8.28951706,  8.35008188],\n",
       "       [ 6.78370733, -9.1710256 ],\n",
       "       [-4.47562227, -5.37342776],\n",
       "       [ 0.53071274, -6.70979752],\n",
       "       [-7.84811537,  4.25413264],\n",
       "       [ 4.62461114,  2.51297212],\n",
       "       [-1.48651321,  8.22171428],\n",
       "       [-6.81910818,  1.98504542],\n",
       "       [-4.86293976, -5.13145242],\n",
       "       [-0.08571356,  1.37363074],\n",
       "       [ 1.54748488,  0.33226447],\n",
       "       [-9.11227262, -7.85585775],\n",
       "       [-6.96041277, -2.37129449],\n",
       "       [ 9.60317356, -9.40954004],\n",
       "       [ 8.79305641, -9.85269193],\n",
       "       [ 0.13030929, -2.98027981],\n",
       "       [-2.31554918, -1.67056542],\n",
       "       [-7.44492346, -9.75413958],\n",
       "       [ 2.29773472,  0.75827155],\n",
       "       [ 9.28433726,  8.16333522],\n",
       "       [ 1.39308205, -7.82875738],\n",
       "       [-4.91387481,  0.6631955 ],\n",
       "       [ 8.9631852 ,  7.7494365 ],\n",
       "       [ 0.49914036,  0.7567655 ],\n",
       "       [-1.26851703,  1.89788614],\n",
       "       [-4.19324912,  4.20908943],\n",
       "       [ 4.00721276, -7.93549485],\n",
       "       [ 4.92328542,  4.34043569],\n",
       "       [ 6.72637145,  0.31121198],\n",
       "       [ 4.10622577, -1.98395437],\n",
       "       [-9.33119691, -4.93686694],\n",
       "       [ 6.05427236, -1.59111635],\n",
       "       [-4.59290194, -8.07375425],\n",
       "       [-4.22132995,  2.86457391],\n",
       "       [ 6.64610546, -1.15168122],\n",
       "       [-9.89605844, -7.23751863],\n",
       "       [-9.97461111,  7.07704511],\n",
       "       [-9.40854073, -7.60876408],\n",
       "       [ 5.7956864 , -6.88297503],\n",
       "       [-6.97275281,  0.33607278],\n",
       "       [-8.42260947,  2.13777385],\n",
       "       [ 5.76028314, -4.88438737],\n",
       "       [ 9.18181508, -1.20917432],\n",
       "       [-3.74101693,  8.17254796],\n",
       "       [-2.8584362 ,  4.58294936],\n",
       "       [ 3.30712374, -3.8976367 ],\n",
       "       [ 5.48678036, -2.97528764],\n",
       "       [ 1.23000451,  8.95796546],\n",
       "       [ 5.50776867,  6.20366222],\n",
       "       [ 2.19764799,  4.76675505],\n",
       "       [ 8.81021366,  4.57209278],\n",
       "       [ 6.89049054,  3.02272108],\n",
       "       [ 0.71282848, -0.93397102],\n",
       "       [ 0.63489947,  6.03285389],\n",
       "       [-6.53512849,  8.55974476],\n",
       "       [-8.90316887, -6.72788061],\n",
       "       [ 2.5535712 , -2.91892747],\n",
       "       [ 6.44360103, -7.25176945],\n",
       "       [-6.4530498 ,  0.6609904 ],\n",
       "       [-9.56797473, -5.54354867],\n",
       "       [-8.66665756, -4.4544109 ],\n",
       "       [ 9.44957023, -5.97830798],\n",
       "       [ 6.12976825,  0.20820911],\n",
       "       [ 2.44074869,  1.05299011],\n",
       "       [ 5.38539496,  1.75712117]])"
      ]
     },
     "execution_count": 174,
     "metadata": {},
     "output_type": "execute_result"
    }
   ],
   "execution_count": 174
  },
  {
   "metadata": {
    "ExecuteTime": {
     "end_time": "2024-11-06T06:48:51.695627Z",
     "start_time": "2024-11-06T06:48:51.691077Z"
    }
   },
   "cell_type": "code",
   "source": "np.linalg.norm(points[0,:])",
   "id": "7c9ffce96e6c9fdf",
   "outputs": [
    {
     "data": {
      "text/plain": [
       "6.49846119854384"
      ]
     },
     "execution_count": 175,
     "metadata": {},
     "output_type": "execute_result"
    }
   ],
   "execution_count": 175
  },
  {
   "metadata": {
    "ExecuteTime": {
     "end_time": "2024-11-06T06:48:52.469052Z",
     "start_time": "2024-11-06T06:48:51.749112Z"
    }
   },
   "cell_type": "code",
   "source": [
    "import matplotlib.pyplot as plt\n",
    "\n",
    "# nums의 최소값과 최대값 구하기\n",
    "min_num = np.min(points)\n",
    "max_num = np.max(points)\n",
    "\n",
    "# 1차원 선 그리기\n",
    "# plt.figure(figsize=(10, 2))\n",
    "\n",
    "# nums 값들을 선 위에 점으로 시각화\n",
    "for point in points:\n",
    "    plt.scatter(point[0], point[1], color='b', s=2)\n",
    "\n",
    "plt.title('position before update')\n",
    "plt.xlabel('position')\n",
    "plt.show()"
   ],
   "id": "68e9d6400a8384a8",
   "outputs": [
    {
     "data": {
      "text/plain": [
       "<Figure size 640x480 with 1 Axes>"
      ],
      "image/png": "[encoded data removed]"
     },
     "metadata": {},
     "output_type": "display_data"
    }
   ],
   "execution_count": 176
  },
  {
   "metadata": {
    "ExecuteTime": {
     "end_time": "2024-11-06T06:48:52.479220Z",
     "start_time": "2024-11-06T06:48:52.475631Z"
    }
   },
   "cell_type": "code",
   "source": [
    "# from scipy.stats import norm\n",
    "# from scipy.spatial.distance import cdist\n",
    "# \n",
    "# count = 0\n",
    "# \n",
    "# while count < 100:\n",
    "# \n",
    "#     # dens = np.zeros(len(points))\n",
    "#     dens = []\n",
    "#     vec = np.zeros((len(points), 2))\n",
    "# \n",
    "#     for i in range(len(points)):\n",
    "#         sum_pdf = 0\n",
    "#         vec_total = 0\n",
    "# \n",
    "#         # 여기에 가우시안 넣어야 될듯\n",
    "#         for num2 in points:\n",
    "#             if not np.array_equal(points[i], num2):\n",
    "#                 # gaussian 커널로 점들간 거리에 따라 확률추정\n",
    "#                 # 이게 벡터의 크기\n",
    "#                 distance = np.linalg.norm(points[i] - num2)\n",
    "#                 p = norm.pdf(distance, 0, 1)\n",
    "#                 # 점 num에서 확률추정\n",
    "#                 sum_pdf += p\n",
    "# \n",
    "#                 vec_total += p * (points[i] - num2) / distance\n",
    "# \n",
    "#         dens.append(sum_pdf / (len(points)-1))\n",
    "#         vec[i] = vec_total\n",
    "# \n",
    "#     dens /= np.sum(dens)\n",
    "#     points += vec\n",
    "#     count += 1"
   ],
   "id": "5d306272d1841177",
   "outputs": [],
   "execution_count": 177
  },
  {
   "metadata": {
    "ExecuteTime": {
     "end_time": "2024-11-06T06:48:52.650558Z",
     "start_time": "2024-11-06T06:48:52.493802Z"
    }
   },
   "cell_type": "code",
   "source": [
    "from scipy.stats import norm\n",
    "import numpy as np\n",
    "from scipy.spatial.distance import cdist\n",
    "\n",
    "# 가우시안 커널 함수\n",
    "def gaussian_kernel(x, sigma=1):\n",
    "    return np.exp(-0.5 * (x / sigma) ** 2) / (sigma * np.sqrt(2 * np.pi))\n",
    "\n",
    "count = 0\n",
    "enp = [float('inf')]\n",
    "\n",
    "while True:\n",
    "    diff_matrix = cdist(points, points)\n",
    "\n",
    "    np.fill_diagonal(diff_matrix, np.inf)\n",
    "\n",
    "    # 가우시안 커널 밀도 계산\n",
    "    pdf_matrix = gaussian_kernel(diff_matrix)\n",
    "\n",
    "    # 각 점에서의 밀도 및 벡터 업데이트 계산\n",
    "    dens = np.sum(pdf_matrix, axis=1) / (len(points) * (len(points) - 1))\n",
    "    vec = np.sum(pdf_matrix[:, :, np.newaxis] * (points[:, np.newaxis, :] - points[np.newaxis, :, :]) / diff_matrix[:, :, np.newaxis], axis=1)\n",
    "\n",
    "    # points[:, 1] = points[:, 0] ** 2  # y값을 x^2로 고정\n",
    "\n",
    "    # 엔트로피 계산\n",
    "    current_entropy = -np.sum(dens * np.log(dens))\n",
    "\n",
    "    enp.append(current_entropy)\n",
    "\n",
    "    # 엔트로피 변화가 매우 작을 때 중지\n",
    "    if abs(enp[-2] - current_entropy) < 1e-5 and current_entropy == min(enp):\n",
    "        break\n",
    "\n",
    "    points += 0.9 * vec  # vec의 크기 조절\n",
    "    count += 1\n"
   ],
   "id": "94d712e815c9c487",
   "outputs": [],
   "execution_count": 178
  },
  {
   "metadata": {
    "ExecuteTime": {
     "end_time": "2024-11-06T06:49:28.602600Z",
     "start_time": "2024-11-06T06:49:28.026667Z"
    }
   },
   "cell_type": "code",
   "source": [
    "# from scipy.stats import norm\n",
    "# import numpy as np\n",
    "# from scipy.spatial.distance import cdist\n",
    "# \n",
    "# # 가우시안 커널 함수\n",
    "# def gaussian_kernel(x, sigma=1):\n",
    "#     return np.exp(-0.5 * (x / sigma) ** 2) / (sigma * np.sqrt(2 * np.pi))\n",
    "# \n",
    "# count = 0\n",
    "# enp = [float('inf')]\n",
    "# \n",
    "# \n",
    "# while count < 1000:\n",
    "#     diff_matrix = cdist(test_points, test_points)\n",
    "# \n",
    "#     np.fill_diagonal(diff_matrix, np.inf)\n",
    "# \n",
    "#     # 가우시안 커널 밀도 계산\n",
    "#     pdf_matrix = gaussian_kernel(diff_matrix)\n",
    "# \n",
    "#     # 각 점에서의 밀도 및 벡터 업데이트 계산\n",
    "#     dens = np.sum(pdf_matrix, axis=1) / (len(test_points) * (len(test_points) - 1))\n",
    "#     vec = np.sum(pdf_matrix[:, :, np.newaxis] * (test_points[:, np.newaxis, :] - test_points[np.newaxis, :, :]) / diff_matrix[:, :, np.newaxis], axis=1)\n",
    "# \n",
    "#     # points[:, 1] = points[:, 0] ** 2  # y값을 x^2로 고정\n",
    "# \n",
    "#     # 엔트로피 계산\n",
    "#     current_entropy = -np.sum(dens * np.log(dens))\n",
    "# \n",
    "#     enp.append(current_entropy)\n",
    "# \n",
    "#     # # 엔트로피 변화가 매우 작을 때 중지\n",
    "#     # if abs(enp[-2] - current_entropy) < 1e-5 and current_entropy == min(enp):\n",
    "#     #     break\n",
    "# \n",
    "#     test_points += 0.9 * vec  # vec의 크기 조절\n",
    "#     count += 1\n"
   ],
   "id": "380f483eb2c6421d",
   "outputs": [],
   "execution_count": 184
  },
  {
   "metadata": {
    "ExecuteTime": {
     "end_time": "2024-11-06T06:48:52.781533Z",
     "start_time": "2024-11-06T06:48:52.679058Z"
    }
   },
   "cell_type": "code",
   "source": [
    "plt.title('entropy')\n",
    "plt.xlabel('moved count')\n",
    "plt.plot(enp)\n",
    "print(len(enp))"
   ],
   "id": "ac609c65b270653",
   "outputs": [
    {
     "name": "stdout",
     "output_type": "stream",
     "text": [
      "322\n"
     ]
    },
    {
     "data": {
      "text/plain": [
       "<Figure size 640x480 with 1 Axes>"
      ],
      "image/png": "[encoded data removed]"
     },
     "metadata": {},
     "output_type": "display_data"
    }
   ],
   "execution_count": 180
  },
  {
   "metadata": {
    "ExecuteTime": {
     "end_time": "2024-11-06T06:48:53.477107Z",
     "start_time": "2024-11-06T06:48:52.793535Z"
    }
   },
   "cell_type": "code",
   "source": [
    "import matplotlib.pyplot as plt\n",
    "\n",
    "# nums의 최소값과 최대값 구하기\n",
    "min_num = np.min(points)\n",
    "max_num = np.max(points)\n",
    "\n",
    "# 1차원 선 그리기\n",
    "# plt.figure(figsize=(10, 2))\n",
    "\n",
    "# nums 값들을 선 위에 점으로 시각화\n",
    "for point in points:\n",
    "    plt.scatter(point[0], point[1], color='b', s=2)\n",
    "\n",
    "plt.title('position after update')\n",
    "plt.xlabel('position')\n",
    "plt.show()"
   ],
   "id": "be0d639a712b3825",
   "outputs": [
    {
     "data": {
      "text/plain": [
       "<Figure size 640x480 with 1 Axes>"
      ],
      "image/png": "[encoded data removed]"
     },
     "metadata": {},
     "output_type": "display_data"
    }
   ],
   "execution_count": 181
  },
  {
   "metadata": {
    "ExecuteTime": {
     "end_time": "2024-11-06T06:49:33.825890Z",
     "start_time": "2024-11-06T06:49:33.160661Z"
    }
   },
   "cell_type": "code",
   "source": [
    "import matplotlib.pyplot as plt\n",
    "\n",
    "# nums의 최소값과 최대값 구하기\n",
    "min_num = np.min(points)\n",
    "max_num = np.max(points)\n",
    "\n",
    "# 1차원 선 그리기\n",
    "# plt.figure(figsize=(10, 2))\n",
    "\n",
    "# nums 값들을 선 위에 점으로 시각화\n",
    "for point in test_points:\n",
    "    plt.scatter(point[0], point[1], color='b', s=2)\n",
    "\n",
    "plt.title('position after update')\n",
    "plt.xlabel('position')\n",
    "plt.show()"
   ],
   "id": "5b17e48645af1aec",
   "outputs": [
    {
     "data": {
      "text/plain": [
       "<Figure size 640x480 with 1 Axes>"
      ],
      "image/png": "[encoded data removed]"
     },
     "metadata": {},
     "output_type": "display_data"
    }
   ],
   "execution_count": 185
  },
  {
   "metadata": {
    "ExecuteTime": {
     "end_time": "2024-11-06T06:48:54.137970Z",
     "start_time": "2024-11-06T06:48:54.132058Z"
    }
   },
   "cell_type": "code",
   "source": "vec",
   "id": "95a0f4150c8017fb",
   "outputs": [
    {
     "data": {
      "text/plain": [
       "array([[ 3.74752561e-03, -5.53195242e-04],\n",
       "       [-5.64321462e-03,  2.07902003e-03],\n",
       "       [-2.01971596e-03, -1.59935565e-03],\n",
       "       [-8.71957996e-04, -6.08047733e-03],\n",
       "       [ 5.29635732e-03,  1.76310466e-03],\n",
       "       [-2.84758198e-04, -3.78022930e-03],\n",
       "       [-4.20432063e-03,  2.01440953e-03],\n",
       "       [-1.75928327e-03,  4.67794002e-03],\n",
       "       [-1.06803978e-03, -7.12930589e-04],\n",
       "       [-1.28202070e-03, -2.12111743e-03],\n",
       "       [-8.69490684e-04,  3.46950927e-03],\n",
       "       [-1.32360994e-05, -5.66545466e-03],\n",
       "       [-2.18129416e-03, -1.52253911e-04],\n",
       "       [ 2.25016215e-03,  3.83816120e-03],\n",
       "       [ 1.03704730e-03, -4.01039262e-03],\n",
       "       [ 1.17924522e-03, -1.45924480e-03],\n",
       "       [-5.54127209e-03, -1.08656883e-03],\n",
       "       [-3.79122583e-03,  9.17456523e-04],\n",
       "       [ 4.83281663e-03, -1.58998654e-03],\n",
       "       [ 1.74105723e-03, -4.71793672e-04],\n",
       "       [ 1.00014699e-03,  1.47784568e-03],\n",
       "       [ 2.62706090e-03,  5.40854325e-03],\n",
       "       [-1.25666440e-03, -3.12589374e-03],\n",
       "       [-5.15257890e-03, -8.69226947e-05],\n",
       "       [ 1.52655410e-03, -5.15488425e-03],\n",
       "       [-3.75918377e-03, -1.92541969e-03],\n",
       "       [ 1.40658201e-03,  1.25530596e-03],\n",
       "       [ 7.90690815e-05,  3.16602645e-03],\n",
       "       [-1.89823851e-05,  3.55947347e-03],\n",
       "       [ 2.77251393e-03,  2.27339824e-04],\n",
       "       [ 8.44636951e-04, -3.35172816e-03],\n",
       "       [-3.45490901e-03,  2.15355378e-03],\n",
       "       [-1.06753820e-03,  5.22457504e-03],\n",
       "       [ 7.92561628e-04,  5.39957978e-03],\n",
       "       [-2.52150647e-03, -2.74562868e-03],\n",
       "       [ 3.37194971e-03,  3.35803709e-03],\n",
       "       [ 1.29413531e-03, -3.53602272e-03],\n",
       "       [-1.87638478e-04, -2.83061684e-03],\n",
       "       [ 8.55096238e-04, -2.66151768e-03],\n",
       "       [-1.89503663e-03,  3.65843356e-03],\n",
       "       [ 2.93296509e-03,  1.51475328e-03],\n",
       "       [-1.73026388e-03,  5.98263212e-03],\n",
       "       [-4.21799619e-03,  1.36438020e-03],\n",
       "       [-2.45976110e-03, -2.27965307e-03],\n",
       "       [ 7.03798784e-05,  1.91079831e-03],\n",
       "       [ 5.40364553e-04, -1.03371878e-04],\n",
       "       [-2.66899158e-03, -3.64253053e-03],\n",
       "       [-3.05745252e-03, -1.27085077e-03],\n",
       "       [ 4.22358575e-03, -3.37508404e-03],\n",
       "       [ 2.56577094e-03, -2.91113435e-03],\n",
       "       [-2.83004632e-04, -2.02228021e-03],\n",
       "       [-2.40879534e-03,  7.37677157e-05],\n",
       "       [ 1.36596717e-04, -3.99610361e-03],\n",
       "       [ 1.67642365e-03,  7.71276313e-04],\n",
       "       [ 3.72381274e-03,  2.37872293e-03],\n",
       "       [-7.75429096e-04, -4.46291584e-03],\n",
       "       [-2.27426888e-03,  1.59305717e-03],\n",
       "       [ 2.62866904e-03,  1.80538718e-03],\n",
       "       [-8.93930557e-04, -4.63668645e-04],\n",
       "       [-9.50457974e-04,  1.16762694e-03],\n",
       "       [-1.08526389e-03,  3.58746371e-03],\n",
       "       [ 2.40618244e-04, -4.81895005e-03],\n",
       "       [ 6.51246042e-04,  2.92591453e-03],\n",
       "       [ 4.21073118e-03,  1.27674142e-03],\n",
       "       [ 2.31993269e-03, -2.03271640e-03],\n",
       "       [-4.20440503e-03, -1.99608049e-04],\n",
       "       [ 2.35088592e-03, -9.78127244e-04],\n",
       "       [-1.62895172e-03, -4.03781680e-03],\n",
       "       [-2.07672237e-03,  2.18561900e-03],\n",
       "       [ 5.68051070e-03, -2.27470009e-04],\n",
       "       [-3.58766978e-03, -3.27294311e-03],\n",
       "       [-3.92222031e-03,  3.09653555e-03],\n",
       "       [-3.32807174e-03, -4.12761513e-03],\n",
       "       [ 2.30042784e-03, -3.64869923e-03],\n",
       "       [-5.03894328e-03,  1.60531719e-03],\n",
       "       [-5.82808990e-03,  1.45324934e-03],\n",
       "       [ 4.77236582e-03, -1.87737348e-03],\n",
       "       [ 6.25681138e-03,  4.45485930e-04],\n",
       "       [-1.06755185e-03,  4.14894086e-03],\n",
       "       [-9.18353821e-04,  2.43804598e-03],\n",
       "       [ 2.08581097e-03, -2.99655302e-03],\n",
       "       [ 3.38674765e-03, -2.55172870e-03],\n",
       "       [ 5.87211644e-04,  4.32634115e-03],\n",
       "       [ 2.01407251e-03,  3.46753011e-03],\n",
       "       [-1.19898709e-04,  2.94618035e-03],\n",
       "       [ 5.17400103e-03,  3.20980477e-03],\n",
       "       [ 4.09344741e-03,  2.79753201e-03],\n",
       "       [ 2.32652690e-04, -1.43623750e-03],\n",
       "       [ 4.11273045e-04,  5.03586690e-03],\n",
       "       [-2.10613274e-03,  4.54792193e-03],\n",
       "       [-3.92343581e-03, -2.78322796e-03],\n",
       "       [ 1.58963770e-03, -5.18910695e-04],\n",
       "       [ 3.14450357e-03, -3.22968491e-03],\n",
       "       [-3.12085694e-03,  5.36741472e-04],\n",
       "       [-4.46652359e-03, -1.60361111e-03],\n",
       "       [-3.29840735e-03,  7.06019117e-04],\n",
       "       [ 5.37113779e-03, -2.69892788e-03],\n",
       "       [ 3.85597889e-03, -1.11228979e-03],\n",
       "       [ 2.50524559e-04,  3.79173815e-04],\n",
       "       [ 4.15210288e-03,  5.45765755e-05]])"
      ]
     },
     "execution_count": 183,
     "metadata": {},
     "output_type": "execute_result"
    }
   ],
   "execution_count": 183
  }
 ],
 "metadata": {
  "kernelspec": {
   "display_name": "Python 3",
   "language": "python",
   "name": "python3"
  },
  "language_info": {
   "codemirror_mode": {
    "name": "ipython",
    "version": 2
   },
   "file_extension": ".py",
   "mimetype": "text/x-python",
   "name": "python",
   "nbconvert_exporter": "python",
   "pygments_lexer": "ipython2",
   "version": "2.7.6"
  }
 },
 "nbformat": 4,
 "nbformat_minor": 5
}
